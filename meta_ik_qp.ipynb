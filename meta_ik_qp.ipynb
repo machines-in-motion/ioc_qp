{
 "cells": [
  {
   "cell_type": "code",
   "execution_count": 91,
   "id": "97413d90",
   "metadata": {},
   "outputs": [],
   "source": [
    "## This file is an implementation of the meta learning QP framework\n",
    "## Author : Avadesh Meduri\n",
    "## Date : 22/02/2022\n",
    "\n",
    "import torch\n",
    "import torch.nn as nn\n",
    "from torch.nn import functional as F\n",
    "\n",
    "from inverse_qp import IOC\n",
    "\n",
    "from matplotlib import pyplot as plt\n"
   ]
  },
  {
   "cell_type": "code",
   "execution_count": 92,
   "id": "5185f8c5",
   "metadata": {},
   "outputs": [],
   "source": [
    "def TerminalLoss(pred, des):\n",
    "    \n",
    "    A = torch.zeros((des.shape[0], des.shape[0]), dtype = torch.double)\n",
    "    A[-4:, -4:] = torch.eye(4, dtype = torch.double)\n",
    "    diff = pred - des\n",
    "    return torch.matmul(torch.matmul(diff, A), diff)"
   ]
  },
  {
   "cell_type": "code",
   "execution_count": null,
   "id": "56c91288",
   "metadata": {},
   "outputs": [
    {
     "name": "stdout",
     "output_type": "stream",
     "text": [
      "loss is : 0.0012973793627325907\r"
     ]
    }
   ],
   "source": [
    "nq = 2\n",
    "n_col = 10\n",
    "u_max = [400, 400]\n",
    "ioc = IOC(n_col, nq, u_max, 0.05, eps = 1.0)\n",
    "\n",
    "lr = 5e+1\n",
    "eps = 200\n",
    "optimizer = torch.optim.Adam(ioc.parameters(), lr=lr)\n",
    "\n",
    "x_init = [0, 0, 0, 0]\n",
    "x_des = torch.zeros(6*n_col + 4)\n",
    "x_des[-4:] = torch.tensor([2,-5,0,0])\n",
    "\n",
    "for i in range(eps):\n",
    "    \n",
    "    x_pred = ioc(x_init) \n",
    "    \n",
    "    loss = TerminalLoss(x_pred, x_des)\n",
    "    print(\"loss is : \" + str(loss.detach().numpy()), end = '\\r', flush = True)\n",
    "    \n",
    "    optimizer.zero_grad()\n",
    "    loss.backward()\n",
    "    optimizer.step()"
   ]
  },
  {
   "cell_type": "code",
   "execution_count": null,
   "id": "ee5fb44b",
   "metadata": {},
   "outputs": [],
   "source": [
    "x_pred = ioc(x_init) \n",
    "x_pred = x_pred.detach().numpy()"
   ]
  },
  {
   "cell_type": "code",
   "execution_count": null,
   "id": "77fbfe9f",
   "metadata": {},
   "outputs": [],
   "source": [
    "plt.plot(x_pred[0::6],label = \"x position of double integrator\")\n",
    "plt.grid()\n",
    "plt.legend()"
   ]
  },
  {
   "cell_type": "code",
   "execution_count": null,
   "id": "310e119c",
   "metadata": {},
   "outputs": [],
   "source": [
    "plt.plot(x_pred[1::6],label = \"y position of double integrator\")\n",
    "plt.grid()\n",
    "plt.legend()"
   ]
  },
  {
   "cell_type": "code",
   "execution_count": null,
   "id": "6e2b2ea7",
   "metadata": {},
   "outputs": [],
   "source": []
  }
 ],
 "metadata": {
  "kernelspec": {
   "display_name": "Python 3 (ipykernel)",
   "language": "python",
   "name": "python3"
  },
  "language_info": {
   "codemirror_mode": {
    "name": "ipython",
    "version": 3
   },
   "file_extension": ".py",
   "mimetype": "text/x-python",
   "name": "python",
   "nbconvert_exporter": "python",
   "pygments_lexer": "ipython3",
   "version": "3.8.10"
  }
 },
 "nbformat": 4,
 "nbformat_minor": 5
}
