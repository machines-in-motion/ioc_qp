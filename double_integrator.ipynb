{
 "cells": [
  {
   "cell_type": "code",
   "execution_count": 14,
   "id": "628c165e",
   "metadata": {},
   "outputs": [],
   "source": [
    "## This file tests the double integrator QP code\n",
    "## Author : Avadesh Meduri\n",
    "## Date : 11/02/2021\n",
    "\n",
    "import numpy as np\n",
    "from matplotlib import pyplot as plt\n",
    "from solver import quadprog_solve_qp\n",
    "\n",
    "from inverse_kinematics import InverseKinematics"
   ]
  },
  {
   "cell_type": "code",
   "execution_count": 19,
   "id": "855d2306",
   "metadata": {},
   "outputs": [],
   "source": [
    "double_integrator = InverseKinematics(20, 1, [400], 0.01)\n",
    "wt = [1e-4,1e-4,1e-2]\n",
    "wt_ter = [1e+4, 1e+5]\n",
    "Q, q, A, b, G, h = double_integrator.create_matrices([0,0], [10,0], wt, wt_ter)\n",
    "\n",
    "x,lag = quadprog_solve_qp(Q, q, G, h, A, b)"
   ]
  },
  {
   "cell_type": "code",
   "execution_count": 20,
   "id": "52668b70",
   "metadata": {},
   "outputs": [
    {
     "data": {
      "text/plain": [
       "[<matplotlib.lines.Line2D at 0x7feb2c53f640>]"
      ]
     },
     "execution_count": 20,
     "metadata": {},
     "output_type": "execute_result"
    },
    {
     "data": {
      "image/png": "[encoded data removed]",
      "text/plain": [
       "<Figure size 432x288 with 1 Axes>"
      ]
     },
     "metadata": {
      "needs_background": "light"
     },
     "output_type": "display_data"
    }
   ],
   "source": [
    "plt.plot(x[::3])"
   ]
  },
  {
   "cell_type": "code",
   "execution_count": 21,
   "id": "12945652",
   "metadata": {},
   "outputs": [],
   "source": [
    "def create_kkt(Q, A, G, h, x_opt, lag):\n",
    "    \n",
    "    print(len(lag), G.shape[0])\n",
    "    assert len(lag) == G.shape[0]\n",
    "    \n",
    "    D_lam = np.diag(lag)\n",
    "    D_g = np.diag(np.matmul(G, x_opt) - h) #D(G*x^{*} - h)\n",
    "    \n",
    "    kkt = np.block([[Q, np.matmul(G.T,D_lam), A.T],\n",
    "                    [G, D_g, np.zeros((G.shape[0], A.shape[0]))],\n",
    "                    [A, np.zeros((A.shape[0], D_g.shape[1])), np.zeros((A.shape[0], A.shape[0]))]])\n",
    "    \n",
    "    return kkt"
   ]
  },
  {
   "cell_type": "code",
   "execution_count": 22,
   "id": "06247161",
   "metadata": {},
   "outputs": [
    {
     "name": "stdout",
     "output_type": "stream",
     "text": [
      "40 40\n"
     ]
    }
   ],
   "source": [
    "kkt = create_kkt(Q, A, G, h, x, lag)"
   ]
  }
 ],
 "metadata": {
  "kernelspec": {
   "display_name": "Python 3 (ipykernel)",
   "language": "python",
   "name": "python3"
  },
  "language_info": {
   "codemirror_mode": {
    "name": "ipython",
    "version": 3
   },
   "file_extension": ".py",
   "mimetype": "text/x-python",
   "name": "python",
   "nbconvert_exporter": "python",
   "pygments_lexer": "ipython3",
   "version": "3.8.10"
  }
 },
 "nbformat": 4,
 "nbformat_minor": 5
}
