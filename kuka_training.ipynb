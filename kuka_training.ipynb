{
 "cells": [
  {
   "cell_type": "code",
   "execution_count": 1,
   "id": "f75e96e1",
   "metadata": {},
   "outputs": [],
   "source": [
    "## This is demo for kuka reaching a desired point with diff_qp\n",
    "## Author : Avadesh Meduri\n",
    "## Date : 25/02/2022\n",
    "import time\n",
    "import numpy as np\n",
    "import pinocchio as pin\n",
    "from robot_properties_kuka.config import IiwaConfig\n",
    "\n",
    "import meshcat\n",
    "import meshcat.transformations as tf\n",
    "import meshcat.geometry as g\n",
    "\n",
    "from diff_pin_costs import DiffFrameTranslationCost, DiffFrameVelocityCost\n",
    "from inverse_qp import IOC\n",
    "\n",
    "import torch\n",
    "from torch.autograd import Function\n",
    "from torch.nn import functional as F"
   ]
  },
  {
   "cell_type": "code",
   "execution_count": 2,
   "id": "56e67bf1",
   "metadata": {},
   "outputs": [],
   "source": [
    "robot = IiwaConfig.buildRobotWrapper()\n",
    "model, data = robot.model, robot.data\n",
    "f_id = model.getFrameId(\"EE\")"
   ]
  },
  {
   "cell_type": "code",
   "execution_count": 3,
   "id": "6f04e687",
   "metadata": {},
   "outputs": [
    {
     "name": "stdout",
     "output_type": "stream",
     "text": [
      "You can open the visualizer by visiting the following URL:\n",
      "http://127.0.0.1:7000/static/\n"
     ]
    }
   ],
   "source": [
    "viz = pin.visualize.MeshcatVisualizer(robot.model, robot.collision_model, robot.visual_model)\n",
    "viz.initViewer(open=False)\n",
    "viz.loadViewerModel()"
   ]
  },
  {
   "cell_type": "code",
   "execution_count": 4,
   "id": "67693d7b",
   "metadata": {},
   "outputs": [],
   "source": [
    "dtc = DiffFrameTranslationCost.apply\n",
    "dvc = DiffFrameVelocityCost.apply\n",
    "\n",
    "def quadratic_loss(q_pred, x_des, nq, n_col):\n",
    "    loss = 3.5e1*torch.linalg.norm(dtc(q_pred[-2*nq:], model, data, f_id) - x_des)\n",
    "    loss += 1e0*torch.linalg.norm(dvc(q_pred[-2*nq:], torch.zeros(nq), model, data, f_id)) # asking for zero velocity\n",
    "    loss += 1e-2*torch.linalg.norm(q_pred[-2*nq:-nq]) # joint regularization\n",
    "    \n",
    "    for i in range(n_col):    \n",
    "        loss += 1e0*torch.linalg.norm(dtc(q_pred[(3*i)*nq: (3*i+2)*nq], model, data, f_id) - x_des)\n",
    "        loss += 5e-1*torch.linalg.norm(dvc(q_pred[(3*i)*nq: (3*i+2)*nq], q_pred[(3*i+2)*nq:(3*i+3)*nq], model, data, f_id)) # asking for zero velocity\n",
    "        loss += 1e-2*torch.linalg.norm(q_pred[(3*i+2)*nq: (3*i+3)*nq]) # control regularization\n",
    "        loss += 2e-1*torch.linalg.norm(q_pred[(3*i+1)*nq: (3*i+2)*nq]) # velocity regularization\n",
    "        loss += 3e-3*torch.linalg.norm(q_pred[(3*i)*nq: (3*i+1)*nq]) # joint regularization\n",
    "        \n",
    "        if i < n_col - 1:\n",
    "            loss += 5e-2*torch.linalg.norm(torch.subtract(q_pred[(3*i+2)*nq: (3*i+3)*nq], \\\n",
    "                                                          q_pred[(3*i+5)*nq: (3*i+6)*nq]))\n",
    "\n",
    "    return loss"
   ]
  },
  {
   "cell_type": "code",
   "execution_count": 16,
   "id": "8f8db28f",
   "metadata": {},
   "outputs": [],
   "source": [
    "nq = model.nq\n",
    "nv = model.nv\n",
    "q0 = [np.pi/16.0, -np.pi/16.0, 0, 0, 0, 0, 0]\n",
    "x_init = np.concatenate([q0, pin.utils.zero(model.nv)])\n",
    "\n",
    "n_col = 5\n",
    "u_max = [2.5,2.5,2.5, 1.5, 1.5, 1.5, 1.0]\n",
    "dt = 0.05\n",
    "\n",
    "isvec = True\n",
    "lr = 1e-1\n",
    "max_eps = 100"
   ]
  },
  {
   "cell_type": "code",
   "execution_count": 17,
   "id": "3f7d8945",
   "metadata": {},
   "outputs": [],
   "source": [
    "buffer_size = 700\n",
    "\n",
    "x_train_init = torch.zeros((buffer_size,len(x_init)))\n",
    "x_train_des = torch.zeros((buffer_size, 3))\n",
    "\n",
    "n_vars = 3*nq*n_col + 2*nq\n",
    "if not isvec:\n",
    "    y_train = torch.zeros((buffer_size, n_vars**2 + n_vars))\n",
    "else:\n",
    "    y_train = torch.zeros((buffer_size, 2*n_vars))\n",
    "\n",
    "# q_des_arr = np.array([[ 0.3009,  1.1532,  1.7729,  1.7383,  1.2195, -0.0204,  0.0593],\n",
    "#                       [1.3737, -0.9711, 1.6139, 1.2188, 1.5669, 0.1236, 0.2565]])\n",
    "q_des_arr = np.array([[ 0.7,  3.3103582e-01,  1.2883641e-03, -8.7180752e-01,-2.8762153e-05,\n",
    "                       -1.1160310e-03, 8.9641966e-05]])\n",
    "x_des_arr = torch.tensor([[0.5, -0.5, 0.4], [0.5, 0.4, 0.6], [0.2, -0.7, 0.4], [0.7, 0.4, 0.5]])\n",
    "\n"
   ]
  },
  {
   "cell_type": "code",
   "execution_count": 12,
   "id": "c88cdfef",
   "metadata": {},
   "outputs": [
    {
     "name": "stdout",
     "output_type": "stream",
     "text": [
      "Index :699/700 Iteration :50/100 loss is : 0.33694111680573097\r"
     ]
    }
   ],
   "source": [
    "for k in range(buffer_size):\n",
    "    ioc = IOC(n_col, nq, u_max, dt, eps = 1.0, isvec=isvec)\n",
    "    optimizer = torch.optim.Adam(ioc.parameters(), lr=lr)\n",
    "\n",
    "    if k % 15 == 0:\n",
    "        \n",
    "        x_des = x_des_arr[np.random.randint(len(x_des_arr))] + 0.2*2*(np.random.rand(3) - [0.2, 0.3, 0.2])\n",
    "    \n",
    "        viz.viewer[\"box\"].set_object(g.Sphere(0.05), \n",
    "                         g.MeshLambertMaterial(\n",
    "                             color=0xff22dd,\n",
    "                             reflectivity=0.8))\n",
    "        viz.viewer[\"box\"].set_transform(tf.translation_matrix(x_des.detach().numpy()))\n",
    "\n",
    "        x_init = np.zeros(2*nq)\n",
    "        x_init[0:nq] = q_des_arr[np.random.randint(len(q_des_arr))]\n",
    "        x_init[0:nq] -= np.hstack((0.4*2*(np.random.rand(3) - 0.5), 0.3*2*(np.random.rand(4) - 0.5)))\n",
    "        x_init[0] = 1.5*2*(np.random.rand() - 0.5) \n",
    "        x_init[nq:] = 0.4*2*(np.random.rand(nv) - 0.5)\n",
    "    \n",
    "    else:\n",
    "        x_init = x_pred[-2*nq:]\n",
    "\n",
    "    x_train_init[k] = torch.tensor(x_init)\n",
    "    x_train_des[k] = x_des\n",
    "    \n",
    "    i = 0\n",
    "    loss = 1000.\n",
    "    old_loss = 10000.\n",
    "    \n",
    "    while loss > 0.03 and i < max_eps and abs(old_loss - loss) > 5e-4:\n",
    "        x_pred = ioc(x_init) \n",
    "        old_loss = loss\n",
    "        loss = quadratic_loss(x_pred, x_des, nq, n_col)\n",
    "        print(\"Index :\" + str(k) + \"/\" + str(buffer_size) + \" Iteration :\" + str(i) + \"/\" + str(max_eps) +  \" loss is : \" + str(loss.detach().numpy()), end = '\\r', flush = True)\n",
    "\n",
    "        optimizer.zero_grad()\n",
    "        loss.backward()\n",
    "        optimizer.step()\n",
    "        i += 1\n",
    "    \n",
    "    x_pred = ioc(x_init).detach().numpy()\n",
    "    for i in range(n_col+1):\n",
    "        q = x_pred[3*nq*i:3*nq*i + nq]\n",
    "        dq = x_pred[3*nq*i + nq:3*nq*i + 2*nq]\n",
    "\n",
    "        pin.forwardKinematics(model, data, q, dq, np.zeros(nv))\n",
    "        pin.updateFramePlacements(model, data)\n",
    "\n",
    "        viz.display(q)\n",
    "        time.sleep(0.01)\n",
    "    \n",
    "    # storing the weights and x_nom\n",
    "    y_train[k] = torch.hstack((ioc.weight.flatten(), ioc.x_nom))\n",
    "    "
   ]
  },
  {
   "cell_type": "code",
   "execution_count": 5,
   "id": "f71a8597",
   "metadata": {},
   "outputs": [
    {
     "ename": "NameError",
     "evalue": "name 'x_train_init' is not defined",
     "output_type": "error",
     "traceback": [
      "\u001b[0;31m---------------------------------------------------------------------------\u001b[0m",
      "\u001b[0;31mNameError\u001b[0m                                 Traceback (most recent call last)",
      "\u001b[0;32m/tmp/ipykernel_2796686/1091634366.py\u001b[0m in \u001b[0;36m<module>\u001b[0;34m\u001b[0m\n\u001b[0;32m----> 1\u001b[0;31m \u001b[0mx_train\u001b[0m \u001b[0;34m=\u001b[0m \u001b[0mtorch\u001b[0m\u001b[0;34m.\u001b[0m\u001b[0mhstack\u001b[0m\u001b[0;34m(\u001b[0m\u001b[0;34m(\u001b[0m\u001b[0mx_train_init\u001b[0m\u001b[0;34m,\u001b[0m \u001b[0mx_train_des\u001b[0m\u001b[0;34m)\u001b[0m\u001b[0;34m)\u001b[0m\u001b[0;34m.\u001b[0m\u001b[0mfloat\u001b[0m\u001b[0;34m(\u001b[0m\u001b[0;34m)\u001b[0m\u001b[0;34m\u001b[0m\u001b[0;34m\u001b[0m\u001b[0m\n\u001b[0m\u001b[1;32m      2\u001b[0m \u001b[0my_train\u001b[0m \u001b[0;34m=\u001b[0m \u001b[0my_train\u001b[0m\u001b[0;34m.\u001b[0m\u001b[0mdetach\u001b[0m\u001b[0;34m(\u001b[0m\u001b[0;34m)\u001b[0m\u001b[0;34m.\u001b[0m\u001b[0mfloat\u001b[0m\u001b[0;34m(\u001b[0m\u001b[0;34m)\u001b[0m\u001b[0;34m\u001b[0m\u001b[0;34m\u001b[0m\u001b[0m\n\u001b[1;32m      3\u001b[0m \u001b[0;34m\u001b[0m\u001b[0m\n\u001b[1;32m      4\u001b[0m \u001b[0mtorch\u001b[0m\u001b[0;34m.\u001b[0m\u001b[0msave\u001b[0m\u001b[0;34m(\u001b[0m\u001b[0mx_train\u001b[0m\u001b[0;34m,\u001b[0m \u001b[0;34m\"./data/x_train1.pt\"\u001b[0m\u001b[0;34m)\u001b[0m\u001b[0;34m\u001b[0m\u001b[0;34m\u001b[0m\u001b[0m\n\u001b[1;32m      5\u001b[0m \u001b[0mtorch\u001b[0m\u001b[0;34m.\u001b[0m\u001b[0msave\u001b[0m\u001b[0;34m(\u001b[0m\u001b[0my_train\u001b[0m\u001b[0;34m,\u001b[0m \u001b[0;34m\"./data/y_train1.pt\"\u001b[0m\u001b[0;34m)\u001b[0m\u001b[0;34m\u001b[0m\u001b[0;34m\u001b[0m\u001b[0m\n",
      "\u001b[0;31mNameError\u001b[0m: name 'x_train_init' is not defined"
     ]
    }
   ],
   "source": [
    "x_train = torch.hstack((x_train_init, x_train_des)).float()\n",
    "y_train = y_train.detach().float()\n",
    "\n",
    "torch.save(x_train, \"./data/x_train1.pt\")\n",
    "torch.save(y_train, \"./data/y_train1.pt\")"
   ]
  },
  {
   "cell_type": "code",
   "execution_count": 7,
   "id": "693e2fbb",
   "metadata": {},
   "outputs": [
    {
     "name": "stdout",
     "output_type": "stream",
     "text": [
      "torch.Size([700, 17])\n"
     ]
    }
   ],
   "source": [
    "x_train = torch.load(\"./data/x_train1.pt\")\n",
    "y_train = torch.load(\"./data/y_train1.pt\")\n",
    "\n",
    "# x_train_loaded2 = torch.load(\"./data/x_train2.pt\")\n",
    "# y_train_loaded2 = torch.load(\"./data/y_train2.pt\")\n",
    "\n",
    "# x_train = torch.vstack((x_train_loaded, x_train))\n",
    "# y_train = torch.vstack((y_train_loaded, y_train))\n",
    "\n",
    "# x_train = torch.vstack((x_train_loaded2, x_train))\n",
    "# y_train = torch.vstack((y_train_loaded2, y_train))\n",
    "\n",
    "print(x_train.shape)"
   ]
  },
  {
   "cell_type": "code",
   "execution_count": 8,
   "id": "b98864b8",
   "metadata": {},
   "outputs": [],
   "source": [
    "m = torch.mean(y_train, 0)\n",
    "std = torch.std(y_train, 0)\n",
    "z = torch.where(std == 0) ## checking where std and mean are zero\n",
    "std[z] = 1.0\n",
    "y_train_norm = (y_train - m)/std"
   ]
  },
  {
   "cell_type": "code",
   "execution_count": 17,
   "id": "0b3c9787",
   "metadata": {},
   "outputs": [],
   "source": [
    "# print(m, std)\n",
    "torch.save(m, \"./data/mean.pt\")\n",
    "torch.save(std, \"./data/std.pt\")"
   ]
  },
  {
   "cell_type": "code",
   "execution_count": 9,
   "id": "66c56bcc",
   "metadata": {},
   "outputs": [],
   "source": [
    "class Net(torch.nn.Module):\n",
    "\n",
    "    def __init__(self, inp_size, out_size):\n",
    "        super(Net, self).__init__()\n",
    "        self.fc1 = torch.nn.Linear(inp_size, 512)\n",
    "        self.fc2 = torch.nn.Linear(512, 512)\n",
    "        self.out = torch.nn.Linear(512, out_size)\n",
    "\n",
    "    def forward(self, x):\n",
    "       \n",
    "        x = torch.tanh(self.fc1(x))\n",
    "        x = torch.tanh(self.fc2(x))\n",
    "        x = self.out(x)\n",
    "        return x"
   ]
  },
  {
   "cell_type": "code",
   "execution_count": 11,
   "id": "12768435",
   "metadata": {
    "scrolled": false
   },
   "outputs": [
    {
     "name": "stdout",
     "output_type": "stream",
     "text": [
      "torch.Size([700, 17])\n",
      "The iteration number : 59999 The loss is :0.29740214\r"
     ]
    }
   ],
   "source": [
    "nn = Net(x_train.shape[1], y_train.shape[1])\n",
    "# nn.load_state_dict(torch.load(\"./models/test1\"))\n",
    "# nn = nn.cuda()\n",
    "# x_train = x_train.cuda()\n",
    "# y_train_norm = y_train_norm.cuda()\n",
    "# y_train = y_train.cuda()\n",
    "print(x_train.shape)\n",
    "\n",
    "lr = 1e-5\n",
    "eps = int(6e4)\n",
    "batch_size = 256\n",
    "optimizer = torch.optim.Adam(nn.parameters(), lr=lr)\n",
    "loss = torch.nn.L1Loss() #torch.nn.MSELoss() #torch.nn.HuberLoss()\n",
    "\n",
    "for i in range(eps):\n",
    "    \n",
    "    ind = np.random.randint(0,len(x_train), size = batch_size)\n",
    "    x_train_batch = x_train[ind]\n",
    "    y_train_batch = y_train_norm[ind]\n",
    "#     y_train_batch = y_train[ind]\n",
    "\n",
    "    y_pred = nn(x_train_batch)\n",
    "    error = loss(y_pred, y_train_batch) \n",
    "    print(\"The iteration number : \" + str(i) + \" The loss is :\" + str(error.cpu().detach().numpy()), end='\\r', flush  = True)\n",
    "    optimizer.zero_grad()\n",
    "    error.backward()\n",
    "    optimizer.step()"
   ]
  },
  {
   "cell_type": "code",
   "execution_count": 12,
   "id": "2a80ca22",
   "metadata": {},
   "outputs": [],
   "source": [
    "nn = nn.cpu()\n",
    "x_train = x_train.cpu()\n",
    "y_train_norm = y_train_norm.cpu()"
   ]
  },
  {
   "cell_type": "code",
   "execution_count": 13,
   "id": "d46397d1",
   "metadata": {},
   "outputs": [
    {
     "ename": "NameError",
     "evalue": "name 'buffer_size' is not defined",
     "output_type": "error",
     "traceback": [
      "\u001b[0;31m---------------------------------------------------------------------------\u001b[0m",
      "\u001b[0;31mNameError\u001b[0m                                 Traceback (most recent call last)",
      "\u001b[0;32m/tmp/ipykernel_2796686/3311433859.py\u001b[0m in \u001b[0;36m<module>\u001b[0;34m\u001b[0m\n\u001b[0;32m----> 1\u001b[0;31m \u001b[0mk\u001b[0m \u001b[0;34m=\u001b[0m \u001b[0mnp\u001b[0m\u001b[0;34m.\u001b[0m\u001b[0mrandom\u001b[0m\u001b[0;34m.\u001b[0m\u001b[0mrandint\u001b[0m\u001b[0;34m(\u001b[0m\u001b[0mbuffer_size\u001b[0m\u001b[0;34m)\u001b[0m\u001b[0;34m\u001b[0m\u001b[0;34m\u001b[0m\u001b[0m\n\u001b[0m\u001b[1;32m      2\u001b[0m \u001b[0mprint\u001b[0m\u001b[0;34m(\u001b[0m\u001b[0mk\u001b[0m\u001b[0;34m)\u001b[0m\u001b[0;34m\u001b[0m\u001b[0;34m\u001b[0m\u001b[0m\n\u001b[1;32m      3\u001b[0m \u001b[0mx_des\u001b[0m \u001b[0;34m=\u001b[0m \u001b[0mx_train\u001b[0m\u001b[0;34m[\u001b[0m\u001b[0mk\u001b[0m\u001b[0;34m]\u001b[0m\u001b[0;34m\u001b[0m\u001b[0;34m\u001b[0m\u001b[0m\n\u001b[1;32m      4\u001b[0m viz.viewer[\"box\"].set_object(g.Sphere(0.05), \n\u001b[1;32m      5\u001b[0m                          g.MeshLambertMaterial(\n",
      "\u001b[0;31mNameError\u001b[0m: name 'buffer_size' is not defined"
     ]
    }
   ],
   "source": [
    "k = np.random.randint(buffer_size)\n",
    "print(k)\n",
    "x_des = x_train[k]\n",
    "viz.viewer[\"box\"].set_object(g.Sphere(0.05), \n",
    "                         g.MeshLambertMaterial(\n",
    "                             color=0xff22dd,\n",
    "                             reflectivity=0.8))\n",
    "viz.viewer[\"box\"].set_transform(tf.translation_matrix(x_des[-3:].detach().numpy()))\n",
    "\n",
    "# x_des = x_train[0]\n",
    "print(x_des[-3:])\n",
    "\n",
    "pred_norm = nn(x_des)\n",
    "pred = pred_norm * std + m\n",
    "# pred = y_train[k]\n",
    "\n",
    "if not isvec:\n",
    "    ioc.weight = torch.nn.Parameter(torch.reshape(pred[0:n_vars**2], (n_vars, n_vars)))\n",
    "    ioc.x_nom = torch.nn.Parameter(pred[n_vars**2:])\n",
    "else:\n",
    "    ioc.weight = torch.nn.Parameter(pred[0:n_vars])\n",
    "    ioc.x_nom = torch.nn.Parameter(pred[n_vars:])\n",
    "\n",
    "x_pred = ioc((x_des[:-3]).detach().numpy()) \n",
    "x_pred = x_pred.detach().numpy()\n",
    "\n",
    "plt_des = np.zeros((n_col+1, 3))\n",
    "\n",
    "for i in range(n_col+1):\n",
    "    q = x_pred[3*nq*i:3*nq*i + nq]\n",
    "    dq = x_pred[3*nq*i + nq:3*nq*i + 2*nq]\n",
    "\n",
    "    pin.forwardKinematics(model, data, q, dq, np.zeros(nv))\n",
    "    pin.updateFramePlacements(model, data)\n",
    "    \n",
    "    plt_des[i] = data.oMf[f_id].translation\n",
    "\n",
    "    viz.display(q)\n",
    "    time.sleep(0.05)"
   ]
  },
  {
   "cell_type": "code",
   "execution_count": 20,
   "id": "5754e644",
   "metadata": {
    "scrolled": true
   },
   "outputs": [
    {
     "name": "stdout",
     "output_type": "stream",
     "text": [
      "217\n",
      "tensor([ 0.7499, -0.2994,  0.5863])\n"
     ]
    }
   ],
   "source": [
    "k = np.random.randint(buffer_size)\n",
    "print(k)\n",
    "x_in = x_train[k]\n",
    "x_des = x_in[-3:]\n",
    "print(x_des)\n",
    "\n",
    "viz.viewer[\"box\"].set_object(g.Sphere(0.05), \n",
    "                         g.MeshLambertMaterial(\n",
    "                             color=0xff22dd,\n",
    "                             reflectivity=0.8))\n",
    "viz.viewer[\"box\"].set_transform(tf.translation_matrix(x_des[-3:].detach().numpy()))\n",
    "\n",
    "\n",
    "for j in range(20):\n",
    "    ioc = IOC(n_col, nq, u_max, dt, eps = 1.0, isvec=isvec)\n",
    "    optimizer = torch.optim.Adam(ioc.parameters(), lr=lr)\n",
    "\n",
    "    \n",
    "    pred_norm = nn(x_in)\n",
    "    pred = pred_norm * std + m\n",
    "    \n",
    "    if not isvec:\n",
    "        ioc.weight = torch.nn.Parameter(torch.reshape(pred[0:n_vars**2], (n_vars, n_vars)))\n",
    "        ioc.x_nom = torch.nn.Parameter(pred[n_vars**2:])\n",
    "    else:\n",
    "        ioc.weight = torch.nn.Parameter(pred[0:n_vars])\n",
    "        ioc.x_nom = torch.nn.Parameter(pred[n_vars:])\n",
    "\n",
    "#         print(torch.relu(ioc.weight)*ioc.x_nom)\n",
    "#         print(\"--------------------------------------------------\")\n",
    "    x_pred = ioc((x_in[:-3]).detach().numpy()) \n",
    "    x_pred = x_pred.detach().numpy()\n",
    "\n",
    "\n",
    "    for i in range(n_col+1):\n",
    "        q = x_pred[3*nq*i:3*nq*i + nq]\n",
    "        dq = x_pred[3*nq*i + nq:3*nq*i + 2*nq]\n",
    "\n",
    "        pin.forwardKinematics(model, data, q, dq, np.zeros(nv))\n",
    "        pin.updateFramePlacements(model, data)\n",
    "\n",
    "        viz.display(q)\n",
    "        time.sleep(0.05)\n",
    "    \n",
    "    x_in[0:2*nq] = torch.tensor(x_pred[-2*nq:])\n",
    "#     print(x_pred[-nq:])\n"
   ]
  },
  {
   "cell_type": "code",
   "execution_count": 19,
   "id": "90413c8c",
   "metadata": {},
   "outputs": [
    {
     "name": "stdout",
     "output_type": "stream",
     "text": [
      "saved ...\n"
     ]
    }
   ],
   "source": [
    "torch.save(nn.state_dict(), \"./models/test1\")\n",
    "print(\"saved ...\")"
   ]
  },
  {
   "cell_type": "code",
   "execution_count": null,
   "id": "63ac8f6c",
   "metadata": {},
   "outputs": [],
   "source": [
    "from matplotlib import pyplot as plt\n",
    "\n",
    "plt.plot(x_pred[2*nq + 1:: 3*nq], label = \"joint torque\")\n",
    "plt.legend()\n",
    "plt.grid()"
   ]
  },
  {
   "cell_type": "code",
   "execution_count": null,
   "id": "19544503",
   "metadata": {},
   "outputs": [],
   "source": [
    "plt_des = np.array(plt_des)\n",
    "plt.plot(plt_des[:,0], label = \"x_pos\")\n",
    "plt.grid()\n",
    "plt.legend()"
   ]
  },
  {
   "cell_type": "code",
   "execution_count": null,
   "id": "3bb0f58b",
   "metadata": {},
   "outputs": [],
   "source": [
    "plt_des = np.array(plt_des)\n",
    "plt.plot(plt_des[:,1], label = \"y_pos\")\n",
    "plt.grid()\n",
    "plt.legend()"
   ]
  },
  {
   "cell_type": "code",
   "execution_count": null,
   "id": "078be1e4",
   "metadata": {},
   "outputs": [],
   "source": [
    "plt_des = np.array(plt_des)\n",
    "plt.plot(plt_des[:,2], label = \"z_pos\")\n",
    "plt.grid()\n",
    "plt.legend()"
   ]
  },
  {
   "cell_type": "code",
   "execution_count": 26,
   "id": "e78520f8",
   "metadata": {},
   "outputs": [],
   "source": [
    "from mim_data_utils import DataLogger, DataReader\n",
    "reader = DataReader('test.mds')\n",
    "\n",
    "for i in range(len(reader.data['joint_positions'])):\n",
    "    q = reader.data['joint_positions'][i]\n",
    "    viz.display(q)\n",
    "#     time.sleep(0.05)"
   ]
  },
  {
   "cell_type": "code",
   "execution_count": null,
   "id": "96b113bb",
   "metadata": {},
   "outputs": [],
   "source": []
  }
 ],
 "metadata": {
  "kernelspec": {
   "display_name": "Python 3 (ipykernel)",
   "language": "python",
   "name": "python3"
  },
  "language_info": {
   "codemirror_mode": {
    "name": "ipython",
    "version": 3
   },
   "file_extension": ".py",
   "mimetype": "text/x-python",
   "name": "python",
   "nbconvert_exporter": "python",
   "pygments_lexer": "ipython3",
   "version": "3.8.10"
  }
 },
 "nbformat": 4,
 "nbformat_minor": 5
}
