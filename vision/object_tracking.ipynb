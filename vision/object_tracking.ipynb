{
 "cells": [
  {
   "cell_type": "code",
   "execution_count": 1,
   "id": "dcd90d28",
   "metadata": {},
   "outputs": [],
   "source": [
    "## This is a test file to train to track an object\n",
    "## Author : Avadesh Meduri\n",
    "## Date : 8/04/2022\n",
    "\n",
    "from matplotlib import pyplot as plt\n",
    "import numpy as np\n",
    "\n",
    "from torch.utils.data import Dataset\n",
    "import torch\n",
    "import torchvision\n",
    "from torchvision import transforms\n",
    "import torch.nn as nn\n",
    "import torch.nn.functional as F\n",
    "import torch.optim as optim\n",
    "from torch.utils import data\n",
    "from torchvision.io import read_image\n",
    "from torch.utils.data import DataLoader, RandomSampler, Sampler\n",
    "import time\n",
    "from PIL import Image\n",
    "from skimage.io import imread\n",
    "import numba\n",
    "from torchvision.transforms import ToTensor, ToPILImage, Resize\n",
    "from IPython.display import display, clear_output"
   ]
  },
  {
   "cell_type": "code",
   "execution_count": 2,
   "id": "43b67117",
   "metadata": {},
   "outputs": [],
   "source": [
    "class BoxDataSet(Dataset):\n",
    "    \n",
    "    def __init__(self, fnames, mean = None, std = None, rgbd = True, resize = (224,224)):\n",
    "        \n",
    "        self.rgbd = rgbd\n",
    "        self.resize = resize\n",
    "        self.y_len = [0]\n",
    "        self.img_dir = []\n",
    "        for i in range(len(fnames)):\n",
    "            self.img_dir.append(\"./image_data/data\" + str(fnames[i]))\n",
    "            self.data = np.load(\"./position_data/data\" + str(fnames[i]) + \".npz\")\n",
    "            if i == 0:\n",
    "                self.y_train = torch.tensor(self.data[\"position\"]).float()\n",
    "                self.y_len.append(len(self.data[\"position\"])-1)\n",
    "                \n",
    "            else:\n",
    "                self.y_train = torch.vstack((self.y_train, torch.tensor(self.data[\"position\"]).float()))\n",
    "                self.y_len.append(self.y_len[-1] + len(self.data[\"position\"]))\n",
    "        \n",
    "        if isinstance(mean, np.ndarray) and isinstance(std, np.ndarray):\n",
    "            print(\"using given mean\")\n",
    "            self.mean = mean\n",
    "            self.std = std\n",
    "            self.y_train = (self.y_train - self.mean)/self.std\n",
    "        else:\n",
    "            self.mean = torch.mean(self.y_train, axis = 0)\n",
    "            self.std = torch.std(self.y_train, axis = 0)\n",
    "            print(self.mean, self.std)\n",
    "            self.y_train = (self.y_train - self.mean)/self.std\n",
    "    \n",
    "    def __len__(self):\n",
    "        return int(len(self.y_train))\n",
    "    \n",
    "    def __getitem__(self, gidx):\n",
    "        \n",
    "        \n",
    "        b_idx = max(np.searchsorted(self.y_len, gidx)-1,0) # which dir to look into\n",
    "        idx = max(gidx - self.y_len[b_idx] - 1,0) # relative idx\n",
    "        \n",
    "        image = ToTensor()(imread(self.img_dir[b_idx] + \"/color_\" + str(idx) + \".jpg\"))\n",
    "        if self.rgbd:\n",
    "            d_image = ToTensor()(imread(self.img_dir[b_idx] + \"/depth_\" + str(idx) + \".jpg\"))\n",
    "            image = torch.vstack((image, d_image))\n",
    "            image = transforms.functional.crop(image,  50, 100, 180, 180)\n",
    "        else:\n",
    "            image = transforms.functional.crop(image,  50, 100, 180, 180)\n",
    "            image = transforms.Resize(self.resize)(image)       \n",
    "        \n",
    "        label = self.y_train[gidx]\n",
    "        \n",
    "        return image.float(), label\n",
    "                \n",
    "    \n",
    "    def get_data(self, gidx):\n",
    "        \n",
    "        \n",
    "        b_idx = max(np.searchsorted(self.y_len, gidx)-1,0) # which dir to look into\n",
    "        idx = max(gidx - self.y_len[b_idx] - 1,0) # relative idx\n",
    "        \n",
    "#         print(type(imread(self.img_dir[b_idx] + \"/color_\" + str(idx) + \".jpg\")))\n",
    "        image = ToTensor()(imread(self.img_dir[b_idx] + \"/color_\" + str(idx) + \".jpg\"))\n",
    "        if self.rgbd:\n",
    "            d_image = ToTensor()(imread(self.img_dir[b_idx] + \"/depth_\" + str(idx) + \".jpg\"))\n",
    "            image = torch.vstack((image, d_image))\n",
    "            image = transforms.functional.crop(image,  50, 100, 180, 180)\n",
    "\n",
    "        else:\n",
    "            image = transforms.functional.crop(image,  50, 100, 180, 180)\n",
    "            image = transforms.Resize(self.resize)(image)                    \n",
    "\n",
    "        label = self.y_train[gidx]\n",
    "        \n",
    "        return image.float()[None,:,:,:], label\n",
    "\n",
    "\n"
   ]
  },
  {
   "cell_type": "code",
   "execution_count": 3,
   "id": "178f0fe2",
   "metadata": {},
   "outputs": [
    {
     "name": "stdout",
     "output_type": "stream",
     "text": [
      "tensor([0.3198, 0.1815, 0.3907]) tensor([0.1387, 0.2279, 0.1598])\n",
      "tensor([-0.2904, -0.7905, -1.0287])\n"
     ]
    },
    {
     "data": {
      "text/plain": [
       "<matplotlib.image.AxesImage at 0x7f1c545dfbe0>"
      ]
     },
     "execution_count": 3,
     "metadata": {},
     "output_type": "execute_result"
    },
    {
     "data": {
      "image/png": "[encoded data removed]",
      "text/plain": [
       "<Figure size 432x288 with 1 Axes>"
      ]
     },
     "metadata": {
      "needs_background": "light"
     },
     "output_type": "display_data"
    }
   ],
   "source": [
    "dl = BoxDataSet([8], rgbd = True, resize = (224,224))\n",
    "image, label = dl.get_data(np.random.randint(1000))\n",
    "box = ToPILImage()(image[0][3])\n",
    "print(label)\n",
    "plt.imshow(box)"
   ]
  },
  {
   "cell_type": "code",
   "execution_count": 4,
   "id": "0cde7d47",
   "metadata": {},
   "outputs": [],
   "source": [
    "class C_Net(nn.Module):\n",
    "    def __init__(self):\n",
    "        super().__init__()\n",
    "        self.conv11 = nn.Conv2d(4, 64, 3)\n",
    "        self.conv12 = nn.Conv2d(64, 64, 3)\n",
    "\n",
    "        self.pool = nn.MaxPool2d(2, 2)\n",
    "        \n",
    "        self.conv21 = nn.Conv2d(64, 128, 3)\n",
    "        self.conv22 = nn.Conv2d(128, 128, 3)\n",
    "\n",
    "        self.conv31 = nn.Conv2d(128, 256, 3)\n",
    "        self.conv32 = nn.Conv2d(256, 256, 3)\n",
    "        self.conv33 = nn.Conv2d(256, 256, 3)\n",
    "\n",
    "        \n",
    "        self.conv41 = nn.Conv2d(256, 512, 3)\n",
    "        self.conv42 = nn.Conv2d(512, 512, 3)\n",
    "        \n",
    "        self.fc1 = nn.Linear(512, 512)\n",
    "        self.fc3 = nn.Linear(512, 3)\n",
    "\n",
    "    def forward(self, x):\n",
    "        x = F.relu(self.conv11(x))\n",
    "        x = self.pool(F.relu(self.conv12(x)))\n",
    "        \n",
    "        x = F.relu(self.conv21(x))\n",
    "        x = self.pool(F.relu(self.conv22(x)))\n",
    "        \n",
    "        x = self.pool(F.relu(self.conv31(x)))\n",
    "        x = self.pool(F.relu(self.conv32(x)))\n",
    "        \n",
    "        x = self.pool(F.relu(self.conv41(x)))\n",
    "        x = F.relu(self.conv42(x))\n",
    "            \n",
    "        x = torch.flatten(x, 1) # flatten all dimensions except batch\n",
    "#         print(x.shape)\n",
    "        x = F.relu(self.fc1(x))\n",
    "        x = self.fc3(x)\n",
    "        return x\n",
    "\n"
   ]
  },
  {
   "cell_type": "code",
   "execution_count": 5,
   "id": "e8fd5f10",
   "metadata": {},
   "outputs": [
    {
     "name": "stdout",
     "output_type": "stream",
     "text": [
      "using GPU\n",
      "tensor([0.3060, 0.1720, 0.4036]) tensor([0.1408, 0.2329, 0.1644])\n",
      "using given mean\n"
     ]
    }
   ],
   "source": [
    "if torch.cuda.is_available():\n",
    "    print(\"using GPU\")\n",
    "    device = torch.device(\"cuda\")\n",
    "else:\n",
    "    device = torch.device(\"cpu\")\n",
    "net = C_Net()\n",
    "net_name = \"cnn2\"\n",
    "# net.load_state_dict(torch.load(\"./models/\" + net_name))\n",
    "net = net.to(device)\n",
    "lr = 1.0e-3\n",
    "eps = 1000\n",
    "indices = [1,2,3,4,5,6,7]\n",
    "test_indices = [8]\n",
    "optimizer = torch.optim.Adam(net.parameters(), lr=lr)\n",
    "loss = torch.nn.MSELoss() #torch.nn.MSELoss() #torch.nn.HuberLoss()\n",
    "data = DataLoader(BoxDataSet(indices, rgbd = True, resize = (224,224)), \\\n",
    "                  batch_size = 64, num_workers = 12, shuffle=True)\n",
    "test = DataLoader(BoxDataSet(test_indices, mean = np.array([0.3060, 0.1720, 0.4036]), \\\n",
    "                             std = np.array([0.1408, 0.2329, 0.1644]), rgbd = True, resize = (224,224)), \\\n",
    "                  batch_size = 64, num_workers = 12, shuffle=True)\n"
   ]
  },
  {
   "cell_type": "code",
   "execution_count": null,
   "id": "b4f25886",
   "metadata": {
    "scrolled": false
   },
   "outputs": [
    {
     "data": {
      "image/png": "[encoded data removed]",
      "text/plain": [
       "<Figure size 432x288 with 1 Axes>"
      ]
     },
     "metadata": {
      "needs_background": "light"
     },
     "output_type": "display_data"
    },
    {
     "name": "stdout",
     "output_type": "stream",
     "text": [
      "The iteration number : 5 The loss is :0.011856421 Last save :3\r"
     ]
    }
   ],
   "source": [
    "best_loss = 1e3\n",
    "last_save = 0\n",
    "loss_arr = []\n",
    "test_arr = []\n",
    "for i in range(eps):\n",
    "    m_e = []\n",
    "    for x_train_batch, y_train_batch in data:\n",
    "        x_train_gpu = x_train_batch.to(device)\n",
    "        y_train_gpu = y_train_batch.to(device)\n",
    "        y_pred = net(x_train_gpu)\n",
    "        error = loss(y_pred, y_train_gpu) \n",
    "        m_e.append(error.cpu().detach().numpy())\n",
    "        optimizer.zero_grad()\n",
    "        error.backward()\n",
    "        optimizer.step()\n",
    "    \n",
    "    m_error = np.mean(m_e)\n",
    "    loss_arr.append(m_error)\n",
    "\n",
    "    t_e = []\n",
    "    for x_test_batch, y_test_batch in test:\n",
    "        x_test_gpu = x_test_batch.to(device)\n",
    "        y_test_gpu = y_test_batch.to(device)\n",
    "        y_pred = net(x_test_gpu)\n",
    "        error = loss(y_pred, y_test_gpu) \n",
    "        t_e.append(error.cpu().detach().numpy())\n",
    "    \n",
    "    t_error = np.mean(t_e)\n",
    "    test_arr.append(t_error)\n",
    "\n",
    "    #plotting\n",
    "    plt.plot(loss_arr, label = \"training loss\")\n",
    "    plt.plot(test_arr, label = \"test loss\")\n",
    "\n",
    "    plt.yscale(\"log\")\n",
    "    plt.grid()\n",
    "    plt.legend()\n",
    "    clear_output(wait=True)\n",
    "    plt.show()\n",
    "  \n",
    "    print(\"The iteration number : \" + str(i) + \" The loss is :\" + str(m_error) + \\\n",
    "                          \" Last save :\"  + str(last_save), end='\\r', flush  = True)    \n",
    "    \n",
    "    \n",
    "    if best_loss > m_error:\n",
    "        last_save = i\n",
    "        torch.save(net.state_dict(), \"./models/\" + net_name)\n",
    "        best_loss = m_error\n",
    "    if i == 10:\n",
    "        optimizer = torch.optim.Adam(net.parameters(), lr=lr/10)\n",
    "    if i == 70:\n",
    "        optimizer = torch.optim.Adam(net.parameters(), lr=lr/20)\n",
    "\n",
    "        \n",
    "torch.save(net.state_dict(), \"./models/\" + net_name)   "
   ]
  },
  {
   "cell_type": "code",
   "execution_count": null,
   "id": "991acc71",
   "metadata": {},
   "outputs": [],
   "source": [
    "net = C_Net()\n",
    "net.load_state_dict(torch.load(\"./models/cnn1\"))\n",
    "mean = np.array([0.3068, 0.1732, 0.4015])\n",
    "std = np.array([0.1402, 0.2325, 0.1624])\n",
    "dl = BoxDataSet([1,2,3,4], mean = mean, std = std, rgbd = True, resize = (224,224))"
   ]
  },
  {
   "cell_type": "code",
   "execution_count": null,
   "id": "642320d7",
   "metadata": {
    "scrolled": true
   },
   "outputs": [],
   "source": [
    "with torch.no_grad():\n",
    "    image, label = dl.get_data(np.random.randint(15000))\n",
    "    pred = net(image)\n",
    "    l = loss(label.unsqueeze(0), pred)\n",
    "    print((label*std + mean).numpy(), (pred*std+mean).numpy(), l.numpy())\n",
    "    box = ToPILImage()(image[0][0:3])\n",
    "    plt.imshow(box)"
   ]
  },
  {
   "cell_type": "code",
   "execution_count": null,
   "id": "0fcccf75",
   "metadata": {},
   "outputs": [],
   "source": [
    "data = np.load(\"./position_data/data\" + str(10) + \".npz\")\n",
    "data = data[\"position\"]\n",
    "for i in range(len(data)):\n",
    "    if np.linalg.norm(data[i]) == 0:\n",
    "        print(i)"
   ]
  },
  {
   "cell_type": "code",
   "execution_count": null,
   "id": "e25112e4",
   "metadata": {},
   "outputs": [],
   "source": [
    "len(data)"
   ]
  },
  {
   "cell_type": "code",
   "execution_count": null,
   "id": "b1d10486",
   "metadata": {},
   "outputs": [],
   "source": []
  },
  {
   "cell_type": "code",
   "execution_count": null,
   "id": "1d1bc60d",
   "metadata": {},
   "outputs": [],
   "source": []
  },
  {
   "cell_type": "code",
   "execution_count": null,
   "id": "53edfb2e",
   "metadata": {},
   "outputs": [],
   "source": []
  },
  {
   "cell_type": "code",
   "execution_count": null,
   "id": "8ed02311",
   "metadata": {},
   "outputs": [],
   "source": []
  },
  {
   "cell_type": "code",
   "execution_count": null,
   "id": "57d0c725",
   "metadata": {},
   "outputs": [],
   "source": []
  }
 ],
 "metadata": {
  "kernelspec": {
   "display_name": "Python 3 (ipykernel)",
   "language": "python",
   "name": "python3"
  },
  "language_info": {
   "codemirror_mode": {
    "name": "ipython",
    "version": 3
   },
   "file_extension": ".py",
   "mimetype": "text/x-python",
   "name": "python",
   "nbconvert_exporter": "python",
   "pygments_lexer": "ipython3",
   "version": "3.8.10"
  }
 },
 "nbformat": 4,
 "nbformat_minor": 5
}
