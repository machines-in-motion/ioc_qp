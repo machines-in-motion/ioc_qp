{
 "cells": [
  {
   "cell_type": "code",
   "execution_count": 1,
   "id": "81c2cde2",
   "metadata": {},
   "outputs": [],
   "source": [
    "## This is demo for kuka reaching a with mpc and diff_qp\n",
    "## Author : Avadesh Meduri\n",
    "## Date : 25/02/2022\n",
    "\n",
    "import time\n",
    "import numpy as np\n",
    "import pinocchio as pin\n",
    "from robot_properties_kuka.config import IiwaConfig\n",
    "\n",
    "import meshcat\n",
    "import meshcat.transformations as tf\n",
    "import meshcat.geometry as g\n",
    "\n",
    "from diff_pin_costs import DiffFK\n",
    "from inverse_qp import IOC\n",
    "\n",
    "import torch\n",
    "from torch.autograd import Function\n",
    "from torch.nn import functional as F"
   ]
  },
  {
   "cell_type": "code",
   "execution_count": 2,
   "id": "398e498a",
   "metadata": {},
   "outputs": [
    {
     "name": "stderr",
     "output_type": "stream",
     "text": [
      "/opt/openrobots/lib/python3.8/site-packages/pinocchio/shortcuts.py:45: UserWarning: You passed package dir(s) via argument geometry_model and provided package_dirs.\n",
      "  geom_model = pin.buildGeomFromUrdf(model, filename, geometry_type, package_dirs)\n"
     ]
    }
   ],
   "source": [
    "robot = IiwaConfig.buildRobotWrapper()\n",
    "model, data = robot.model, robot.data\n",
    "f_id = model.getFrameId(\"EE\")"
   ]
  },
  {
   "cell_type": "code",
   "execution_count": 3,
   "id": "f0ef564f",
   "metadata": {},
   "outputs": [
    {
     "name": "stdout",
     "output_type": "stream",
     "text": [
      "You can open the visualizer by visiting the following URL:\n",
      "http://127.0.0.1:7000/static/\n"
     ]
    }
   ],
   "source": [
    "viz = pin.visualize.MeshcatVisualizer(robot.model, robot.collision_model, robot.visual_model)\n",
    "viz.initViewer(open=False)\n",
    "viz.loadViewerModel()"
   ]
  },
  {
   "cell_type": "code",
   "execution_count": 674,
   "id": "36553cf1",
   "metadata": {},
   "outputs": [],
   "source": [
    "dfk = DiffFK.apply\n",
    "def quadratic_loss(q_pred, x_des, nq, n_col):\n",
    "    loss = 2*torch.linalg.norm(dfk(q_pred[-2*nq:], model, data, f_id) - x_des)\n",
    "    loss += 0.5*torch.linalg.norm(q_pred[-nq:])\n",
    "\n",
    "    for i in range(n_col):    \n",
    "        loss += 0.8*torch.linalg.norm(dfk(q_pred[(3*i)*nq: (3*i+2)*nq], model, data, f_id) - x_des)\n",
    "        loss += 1e-3*torch.linalg.norm(q_pred[(3*i+2)*nq: (3*i+3)*nq]) # control regularization\n",
    "        loss += 1e-2*torch.linalg.norm(q_pred[(3*i)*nq: (3*i+2)*nq]) # joint regularization\n",
    "    \n",
    "    return loss"
   ]
  },
  {
   "cell_type": "code",
   "execution_count": 675,
   "id": "4669146b",
   "metadata": {},
   "outputs": [],
   "source": [
    "nq = model.nq\n",
    "nv = model.nv\n",
    "\n",
    "n_col = 10\n",
    "u_max = [2.5,2.5,2.5, 1.5, 1.5, 1.5, 1.0]\n",
    "\n",
    "lr = 1e-1\n",
    "eps = 100\n",
    "\n",
    "# q_des = np.hstack(((np.pi/4)*(np.random.randint(0, 2, size = 5)), np.zeros(2)))\n",
    "\n",
    "# dq_des = np.zeros_like(q_des)\n",
    "# pin.forwardKinematics(model, data, q_des, dq_des, np.zeros(nv))\n",
    "# pin.updateFramePlacements(model, data)\n",
    "\n",
    "x_des_arr = torch.tensor([[0.5, -0.4, 0.4]]) #[0.6, 0.4, 1.0]\n",
    "\n",
    "x_init = np.zeros(2*nq)\n",
    "x_init[0:nq] = np.hstack(((np.pi/12)*(np.random.randint(3, 6, size = 5)), np.zeros(2)))\n",
    "x_init[nq:] = 0.2*2*(np.random.rand(len(q_des)) - 0.5)\n",
    "\n"
   ]
  },
  {
   "cell_type": "code",
   "execution_count": 677,
   "id": "3ed4ddb9",
   "metadata": {
    "scrolled": false
   },
   "outputs": [
    {
     "name": "stdout",
     "output_type": "stream",
     "text": [
      "tensor([-0.2418, -0.0763,  0.0975,  0.2486, -0.0083, -0.3355,  0.1159],\n",
      "       dtype=torch.float64)\n",
      "tensor([-0.3900,  0.0617,  0.3475,  0.6986, -0.0251, -0.0355,  0.0159],\n",
      "       dtype=torch.float64)\n",
      "tensor([-0.1400,  0.0617,  0.0975, -0.0514, -0.0299, -0.0355,  0.0159],\n",
      "       dtype=torch.float64)\n",
      "tensor([-0.0376,  0.0068,  0.0975, -0.0514, -0.0299, -0.0355,  0.0159],\n",
      "       dtype=torch.float64)\n",
      "tensor([ 0.0097, -0.0053, -0.0017, -0.2014, -0.0067, -0.0034,  0.0159],\n",
      "       dtype=torch.float64)\n",
      "tensor([ 0.0211, -0.0053, -0.0017, -0.0514, -0.0067, -0.0034,  0.0159],\n",
      "       dtype=torch.float64)\n",
      "tensor([ 0.0153,  0.0187, -0.0017,  0.0986, -0.0067, -0.0034,  0.0012],\n",
      "       dtype=torch.float64)\n",
      "tensor([ 0.0153,  0.0042,  0.0017, -0.0514, -0.0067, -0.0034,  0.0012],\n",
      "       dtype=torch.float64)\n",
      "tensor([ 0.0153,  0.0042,  0.0017, -0.0006, -0.0067, -0.0034,  0.0012],\n",
      "       dtype=torch.float64)\n",
      "tensor([ 0.0153,  0.0320, -0.0267, -0.0006, -0.0067, -0.0034,  0.0012],\n",
      "       dtype=torch.float64)\n",
      "tensor([ 0.0153, -0.0003,  0.0115,  0.0021, -0.0036,  0.1466,  0.0012],\n",
      "       dtype=torch.float64)\n",
      "tensor([ 0.0153, -0.0014, -0.0072,  0.0021,  0.1464, -0.0034,  0.0012],\n",
      "       dtype=torch.float64)\n",
      "tensor([ 0.0153, -0.0014,  0.0176,  0.0021, -0.0036, -0.0034,  0.0012],\n",
      "       dtype=torch.float64)\n",
      "tensor([ 0.0153, -0.0054,  0.0176, -0.1479,  0.0092, -0.0034,  0.0012],\n",
      "       dtype=torch.float64)\n",
      "tensor([ 0.0153, -0.0227,  0.0518,  0.0021,  0.0092, -0.0034,  0.0012],\n",
      "       dtype=torch.float64)\n"
     ]
    }
   ],
   "source": [
    "x_in = x_init\n",
    "x_des = x_des_arr[np.random.randint(len(x_des_arr))]\n",
    "\n",
    "viz.viewer[\"box\"].set_object(g.Sphere(0.05), \n",
    "                         g.MeshLambertMaterial(\n",
    "                             color=0xff22dd,\n",
    "                             reflectivity=0.8))\n",
    "viz.viewer[\"box\"].set_transform(tf.translation_matrix(x_des.detach().numpy()))\n",
    "\n",
    "q_init = np.hstack(((np.pi/8)*np.random.choice(list(range(-2, -1)) + list(range(1, 3)), size=(4)), np.zeros(3)))\n",
    "\n",
    "viz.display(q)\n",
    "\n",
    "for j in range(15):\n",
    "\n",
    "    ioc = IOC(n_col, nq, u_max, 0.05, eps = 1.0, isvec=False)\n",
    "    optimizer = torch.optim.Adam(ioc.parameters(), lr=lr)\n",
    "    \n",
    "    \n",
    "    i = 0\n",
    "    loss = 1000.\n",
    "    old_loss = 10000.\n",
    "    \n",
    "    while loss > 0.03 and i < eps and abs(old_loss - loss) > 5e-5:\n",
    "        x_pred = ioc(x_in) \n",
    "\n",
    "        old_loss = loss\n",
    "\n",
    "        loss = quadratic_loss(x_pred, x_des, nq, n_col)\n",
    "        print(\"Index :\" + str(i) + \" loss is : \" + str(loss.detach().numpy()), end = '\\r', flush = True)\n",
    "\n",
    "        optimizer.zero_grad()\n",
    "        loss.backward()\n",
    "        optimizer.step()\n",
    "        i += 1\n",
    "        \n",
    "    x_pred = ioc(x_in).detach().numpy()\n",
    "\n",
    "    for i in range(n_col+1):\n",
    "        q = x_pred[3*nq*i:3*nq*i + nq]\n",
    "        dq = x_pred[3*nq*i + nq:3*nq*i + 2*nq]\n",
    "\n",
    "        pin.forwardKinematics(model, data, q, dq, np.zeros(nv))\n",
    "        pin.updateFramePlacements(model, data)\n",
    "\n",
    "        viz.display(q)\n",
    "        time.sleep(0.05)\n",
    "    \n",
    "    x_in = torch.tensor(x_pred[-2*nq:])\n",
    "    print(x_in[-nq:])"
   ]
  },
  {
   "cell_type": "code",
   "execution_count": 548,
   "id": "a7f19fde",
   "metadata": {},
   "outputs": [
    {
     "data": {
      "text/plain": [
       "'/usr/local/lib/python3.8/dist-packages/torch/share/cmake'"
      ]
     },
     "execution_count": 548,
     "metadata": {},
     "output_type": "execute_result"
    }
   ],
   "source": [
    "torch.utils.cmake_prefix_path"
   ]
  }
 ],
 "metadata": {
  "kernelspec": {
   "display_name": "Python 3 (ipykernel)",
   "language": "python",
   "name": "python3"
  },
  "language_info": {
   "codemirror_mode": {
    "name": "ipython",
    "version": 3
   },
   "file_extension": ".py",
   "mimetype": "text/x-python",
   "name": "python",
   "nbconvert_exporter": "python",
   "pygments_lexer": "ipython3",
   "version": "3.8.10"
  }
 },
 "nbformat": 4,
 "nbformat_minor": 5
}
