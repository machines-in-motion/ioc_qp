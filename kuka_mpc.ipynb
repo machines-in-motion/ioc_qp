{
 "cells": [
  {
   "cell_type": "code",
   "execution_count": 35,
   "id": "81c2cde2",
   "metadata": {},
   "outputs": [],
   "source": [
    "## This is demo for kuka reaching a with mpc and diff_qp\n",
    "## Author : Avadesh Meduri\n",
    "## Date : 25/02/2022\n",
    "import time\n",
    "import numpy as np\n",
    "import pinocchio as pin\n",
    "from robot_properties_kuka.config import IiwaConfig\n",
    "\n",
    "import meshcat\n",
    "import meshcat.transformations as tf\n",
    "import meshcat.geometry as g\n",
    "\n",
    "from diff_pin_costs import DiffFK\n",
    "from inverse_qp import IOC\n",
    "\n",
    "import torch\n",
    "from torch.autograd import Function\n",
    "from torch.nn import functional as F"
   ]
  },
  {
   "cell_type": "code",
   "execution_count": 36,
   "id": "398e498a",
   "metadata": {},
   "outputs": [
    {
     "name": "stderr",
     "output_type": "stream",
     "text": [
      "/opt/openrobots/lib/python3.8/site-packages/pinocchio/shortcuts.py:45: UserWarning: You passed package dir(s) via argument geometry_model and provided package_dirs.\n",
      "  geom_model = pin.buildGeomFromUrdf(model, filename, geometry_type, package_dirs)\n"
     ]
    }
   ],
   "source": [
    "robot = IiwaConfig.buildRobotWrapper()\n",
    "model, data = robot.model, robot.data\n",
    "f_id = model.getFrameId(\"EE\")"
   ]
  },
  {
   "cell_type": "code",
   "execution_count": 37,
   "id": "f0ef564f",
   "metadata": {},
   "outputs": [
    {
     "name": "stdout",
     "output_type": "stream",
     "text": [
      "You can open the visualizer by visiting the following URL:\n",
      "http://127.0.0.1:7001/static/\n"
     ]
    }
   ],
   "source": [
    "viz = pin.visualize.MeshcatVisualizer(robot.model, robot.collision_model, robot.visual_model)\n",
    "viz.initViewer(open=False)\n",
    "viz.loadViewerModel()"
   ]
  },
  {
   "cell_type": "code",
   "execution_count": 38,
   "id": "36553cf1",
   "metadata": {},
   "outputs": [],
   "source": [
    "dfk = DiffFK.apply\n",
    "def quadratic_loss(q_pred, x_des, nq):\n",
    "    loss = torch.linalg.norm(dfk(q_pred[-2*nq:], model, data, f_id) - x_des)\n",
    "    loss += 0.2*torch.linalg.norm(q_pred[-nq:])\n",
    "    return loss\n",
    "\n",
    "# def running_quadratic_loss(q_pred, x_des, nq, n_col):\n",
    "#     loss = 0\n",
    "#     for i in range(0, n_col):\n",
    "#         loss += torch.linalg.norm(dfk(q_pred[3*i*nq:(3*i+2)*nq], model, data, f_id) - x_des)\n",
    "#     return loss"
   ]
  },
  {
   "cell_type": "code",
   "execution_count": 43,
   "id": "4669146b",
   "metadata": {},
   "outputs": [
    {
     "name": "stdout",
     "output_type": "stream",
     "text": [
      "tensor([-0.4712,  0.5082,  0.9357], dtype=torch.float64)\n"
     ]
    }
   ],
   "source": [
    "nq = model.nq\n",
    "nv = model.nv\n",
    "\n",
    "n_col = 10\n",
    "u_max = model.nq*[5,]\n",
    "\n",
    "lr = 1e-1\n",
    "eps = 100\n",
    "\n",
    "q_des = np.array([-0.58904862, -0.58904862, -0.58904862,  0.58904862,  0.        ,\n",
    "        0.        ,  0.        ])\n",
    "dq_des = np.zeros_like(q_des)\n",
    "pin.forwardKinematics(model, data, q_des, dq_des, np.zeros(nv))\n",
    "pin.updateFramePlacements(model, data)\n",
    "\n",
    "x_des = torch.tensor(data.oMf[f_id].translation)\n",
    "print(x_des)\n",
    "q0 = [np.pi/16.0, -np.pi/16.0, 0, 0, 0, 0, 0]\n",
    "q0 += 0.1*np.random.rand(len(q_des))\n",
    "x_init = np.concatenate([q0, pin.utils.zero(model.nv)])\n",
    "\n"
   ]
  },
  {
   "cell_type": "code",
   "execution_count": 42,
   "id": "3ed4ddb9",
   "metadata": {},
   "outputs": [
    {
     "name": "stdout",
     "output_type": "stream",
     "text": [
      "Index :29 loss is : 0.029383064290563893\r"
     ]
    }
   ],
   "source": [
    "x_in = x_init\n",
    "\n",
    "viz.viewer[\"box\"].set_object(g.Sphere(0.05), \n",
    "                         g.MeshLambertMaterial(\n",
    "                             color=0xff22dd,\n",
    "                             reflectivity=0.8))\n",
    "viz.viewer[\"box\"].set_transform(tf.translation_matrix(x_des.detach().numpy()))\n",
    "\n",
    "for j in range(8):\n",
    "\n",
    "    ioc = IOC(n_col, nq, u_max, 0.05, eps = 1.0, isvec=False)\n",
    "    optimizer = torch.optim.Adam(ioc.parameters(), lr=lr)\n",
    "    \n",
    "    \n",
    "    i = 0\n",
    "    loss = 1000\n",
    "\n",
    "    while loss > 0.03 and i < eps:\n",
    "        x_pred = ioc(x_in) \n",
    "        loss = quadratic_loss(x_pred, x_des, nq)\n",
    "        print(\"Index :\" + str(i) + \" loss is : \" + str(loss.detach().numpy()), end = '\\r', flush = True)\n",
    "\n",
    "        optimizer.zero_grad()\n",
    "        loss.backward()\n",
    "        optimizer.step()\n",
    "        i += 1\n",
    "        \n",
    "    x_pred = ioc(x_in).detach().numpy()\n",
    "\n",
    "    for i in range(n_col+1):\n",
    "        q = x_pred[3*nq*i:3*nq*i + nq]\n",
    "        dq = x_pred[3*nq*i + nq:3*nq*i + 2*nq]\n",
    "\n",
    "        pin.forwardKinematics(model, data, q, dq, np.zeros(nv))\n",
    "        pin.updateFramePlacements(model, data)\n",
    "\n",
    "        viz.display(q)\n",
    "        time.sleep(0.05)\n",
    "    \n",
    "    x_in = torch.tensor(x_pred[-2*nq:])\n"
   ]
  },
  {
   "cell_type": "code",
   "execution_count": null,
   "id": "a7f19fde",
   "metadata": {},
   "outputs": [],
   "source": []
  }
 ],
 "metadata": {
  "kernelspec": {
   "display_name": "Python 3 (ipykernel)",
   "language": "python",
   "name": "python3"
  },
  "language_info": {
   "codemirror_mode": {
    "name": "ipython",
    "version": 3
   },
   "file_extension": ".py",
   "mimetype": "text/x-python",
   "name": "python",
   "nbconvert_exporter": "python",
   "pygments_lexer": "ipython3",
   "version": "3.8.10"
  }
 },
 "nbformat": 4,
 "nbformat_minor": 5
}
