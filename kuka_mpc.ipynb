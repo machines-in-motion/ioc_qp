{
 "cells": [
  {
   "cell_type": "code",
   "execution_count": 1,
   "id": "81c2cde2",
   "metadata": {},
   "outputs": [],
   "source": [
    "## This is demo for kuka reaching a with mpc and diff_qp\n",
    "## Author : Avadesh Meduri\n",
    "## Date : 25/02/2022\n",
    "\n",
    "import time\n",
    "import numpy as np\n",
    "import pinocchio as pin\n",
    "from robot_properties_kuka.config import IiwaConfig\n",
    "\n",
    "import meshcat\n",
    "import meshcat.transformations as tf\n",
    "import meshcat.geometry as g\n",
    "\n",
    "from diff_pin_costs import DiffFrameTranslationCost\n",
    "from inverse_qp import IOC\n",
    "\n",
    "import torch\n",
    "from torch.autograd import Function\n",
    "from torch.nn import functional as F"
   ]
  },
  {
   "cell_type": "code",
   "execution_count": 2,
   "id": "398e498a",
   "metadata": {},
   "outputs": [
    {
     "name": "stderr",
     "output_type": "stream",
     "text": [
      "/opt/openrobots/lib/python3.8/site-packages/pinocchio/shortcuts.py:45: UserWarning: You passed package dir(s) via argument geometry_model and provided package_dirs.\n",
      "  geom_model = pin.buildGeomFromUrdf(model, filename, geometry_type, package_dirs)\n"
     ]
    }
   ],
   "source": [
    "robot = IiwaConfig.buildRobotWrapper()\n",
    "model, data = robot.model, robot.data\n",
    "f_id = model.getFrameId(\"EE\")"
   ]
  },
  {
   "cell_type": "code",
   "execution_count": 3,
   "id": "f0ef564f",
   "metadata": {},
   "outputs": [
    {
     "name": "stdout",
     "output_type": "stream",
     "text": [
      "You can open the visualizer by visiting the following URL:\n",
      "http://127.0.0.1:7000/static/\n"
     ]
    }
   ],
   "source": [
    "viz = pin.visualize.MeshcatVisualizer(robot.model, robot.collision_model, robot.visual_model)\n",
    "viz.initViewer(open=False)\n",
    "viz.loadViewerModel()"
   ]
  },
  {
   "cell_type": "code",
   "execution_count": 5,
   "id": "75bae96f",
   "metadata": {},
   "outputs": [],
   "source": [
    "class DiffFramePlacementCost(Function):\n",
    "    \"\"\"\n",
    "    This cost provides gradients wrt joint position and velocity for the final end effector/frame positions\n",
    "    \"\"\"\n",
    "    @staticmethod\n",
    "    def forward(ctx, state, model, data, f_id, des_frame):\n",
    "        \"\"\"\n",
    "        Input:\n",
    "            state : vector (q, dq)\n",
    "            model : pinocchio robot model\n",
    "            data : pinocchio robot data\n",
    "            f_id : frame id for which derivatives are desired\n",
    "            des_frame : desired frame\n",
    "        \"\"\"\n",
    "        state = state.double().detach().numpy()\n",
    "        nq, nv = model.nq, model.nv\n",
    "        pin.forwardKinematics(model, data, state[0:nq], state[nq:nq + nv], np.zeros(nv))\n",
    "        pin.updateFramePlacements(model, data)\n",
    "        \n",
    "        inv_des_frame = pin.SE3.inverse(pin.SE3(des_frame))\n",
    "        SE3_error = inv_des_frame * self.data.oMf[self.f_id]\n",
    "        se3_error = pin.log6(SE3_error)\n",
    "\n",
    "        J = pin.computeFrameJacobian(model, data, state[0:nq], f_id, pin.ReferenceFrame.LOCAL)       \n",
    "        \n",
    "        # derivative wrt q\n",
    "        dq = torch.tensor(np.matmul(np.matmul(pin.Jlog6(SE3_error), J).T,se3_error))\n",
    "        der = torch.hstack((dq, torch.zeros(nv)))\n",
    "        ctx.der = dq\n",
    "    \n",
    "        return torch.tensor(0.5*np.linalg.norm(se3_error)**2)\n",
    "\n",
    "    @staticmethod\n",
    "    def backward(ctx, grad):\n",
    "        \n",
    "        der = ctx.der\n",
    "         # derivative wrt joint positions\n",
    "        \n",
    "        return der@grad, None, None, None\n",
    "        "
   ]
  },
  {
   "cell_type": "code",
   "execution_count": 6,
   "id": "36553cf1",
   "metadata": {},
   "outputs": [],
   "source": [
    "dtc = DiffFrameTranslationCost.apply\n",
    "\n",
    "def quadratic_loss(q_pred, x_des, nq, n_col):\n",
    "    loss = 1e2*torch.linalg.norm(dtc(q_pred[-2*nq:], model, data, f_id) - x_des)\n",
    "    loss += 5*torch.linalg.norm(q_pred[-nq:])\n",
    "    for i in range(n_col):    \n",
    "        loss += 0.8*torch.linalg.norm(dtc(q_pred[(3*i)*nq: (3*i+2)*nq], model, data, f_id) - x_des)\n",
    "        loss += 1e-3*torch.linalg.norm(q_pred[(3*i+2)*nq: (3*i+3)*nq]) # control regularization\n",
    "        loss += 1e-1*torch.linalg.norm(q_pred[(3*i+1)*nq: (3*i+2)*nq]) # velocity regularization\n",
    "        loss += 1e-1*torch.linalg.norm(q_pred[(3*i)*nq: (3*i+1)*nq]) # joint regularization\n",
    "    \n",
    "    return loss"
   ]
  },
  {
   "cell_type": "code",
   "execution_count": 7,
   "id": "c856827a",
   "metadata": {},
   "outputs": [],
   "source": [
    "dfc = DiffFramePlacementCost.apply\n",
    "\n",
    "def frame_loss(q_pred, x_des, nq, n_col):\n",
    "    tmp = np.eye(4)\n",
    "    tmp[:,3][0:3] = x_des\n",
    "    \n",
    "    loss = 1e2*dfc(q_pred[-2*nq:], model, data, f_id, frame_des)\n",
    "    loss += 5*torch.linalg.norm(q_pred[-nq:])\n",
    "    for i in range(n_col):    \n",
    "        loss += 0.8*torch.linalg.norm(dtc(q_pred[(3*i)*nq: (3*i+2)*nq], model, data, f_id) - x_des)\n",
    "        loss += 1e-3*torch.linalg.norm(q_pred[(3*i+2)*nq: (3*i+3)*nq]) # control regularization\n",
    "        loss += 1e-1*torch.linalg.norm(q_pred[(3*i+1)*nq: (3*i+2)*nq]) # velocity regularization\n",
    "        loss += 1e-1*torch.linalg.norm(q_pred[(3*i)*nq: (3*i+1)*nq]) # joint regularization\n",
    "    \n",
    "    return loss"
   ]
  },
  {
   "cell_type": "code",
   "execution_count": 13,
   "id": "4669146b",
   "metadata": {},
   "outputs": [],
   "source": [
    "nq = model.nq\n",
    "nv = model.nv\n",
    "\n",
    "n_col = 5\n",
    "u_max = [2.5,2.5,2.5, 1.5, 1.5, 1.5, 1.0]\n",
    "\n",
    "lr = 1e-1\n",
    "eps = 80\n",
    "\n",
    "# q_des = np.hstack(((np.pi/4)*(np.random.randint(0, 2, size = 5)), np.zeros(2)))\n",
    "\n",
    "q_des_arr = np.array([[ 0.3009,  1.1532,  1.7729,  1.7383,  1.2195, -0.0204,  0.0593]])\n",
    "# dq_des = np.zeros_like(q_des)\n",
    "# pin.forwardKinematics(model, data, q_des, dq_des, np.zeros(nv))\n",
    "# pin.updateFramePlacements(model, data)\n",
    "\n",
    "x_des_arr = torch.tensor([[0.5, -0.4, 0.4]]) #[0.6, 0.4, 1.0]\n",
    "\n",
    "# q_init = np.hstack(((np.pi/8)*np.random.choice(list(range(-2, -1)) + list(range(1, 3)), size=(4)), np.zeros(3)))\n",
    "\n",
    "x_init = np.zeros(2*nq)\n",
    "x_init[0:nq] = q_des_arr[0] + 0.5*np.random.rand(nq)\n",
    "# x_init[0:nq] = np.hstack(((np.pi/12)*(np.random.randint(3, 6, size = 5)), np.zeros(2)))\n",
    "x_init[nq:] = 0.2*2*(np.random.rand(nv) - 0.5)\n",
    "\n"
   ]
  },
  {
   "cell_type": "code",
   "execution_count": 14,
   "id": "3ed4ddb9",
   "metadata": {
    "scrolled": false
   },
   "outputs": [
    {
     "name": "stdout",
     "output_type": "stream",
     "text": [
      "tensor([0.4673, 1.4628, 1.9255, 2.0358, 1.6508, 0.0877, 0.2659],\n",
      "       dtype=torch.float64)\n",
      "tensor([0.6289, 1.3494, 1.8331, 1.9620, 1.6266, 0.1276, 0.2648],\n",
      "       dtype=torch.float64)\n",
      "tensor([0.8843, 1.2140, 1.7169, 1.8320, 1.5945, 0.1787, 0.2642],\n",
      "       dtype=torch.float64)\n",
      "tensor([1.2334, 1.1099, 1.5977, 1.6431, 1.5484, 0.2316, 0.2621],\n",
      "       dtype=torch.float64)\n",
      "tensor([1.5013, 1.0322, 1.5155, 1.4096, 1.5059, 0.2229, 0.2599],\n",
      "       dtype=torch.float64)\n",
      "tensor([1.6130, 0.9615, 1.5142, 1.2523, 1.5266, 0.1962, 0.2586],\n",
      "       dtype=torch.float64)\n",
      "tensor([1.5808, 0.9138, 1.5532, 1.1887, 1.5526, 0.1708, 0.2578],\n",
      "       dtype=torch.float64)\n",
      "tensor([1.4550, 0.9493, 1.5944, 1.2157, 1.5784, 0.1451, 0.2571],\n",
      "       dtype=torch.float64)\n",
      "tensor([1.3737, 0.9711, 1.6139, 1.2188, 1.5669, 0.1236, 0.2565],\n",
      "       dtype=torch.float64)\n",
      "Index :16 loss is : 3.8818548954752305\r"
     ]
    },
    {
     "ename": "KeyboardInterrupt",
     "evalue": "",
     "output_type": "error",
     "traceback": [
      "\u001b[0;31m---------------------------------------------------------------------------\u001b[0m",
      "\u001b[0;31mKeyboardInterrupt\u001b[0m                         Traceback (most recent call last)",
      "\u001b[0;32m/tmp/ipykernel_16106/3509484621.py\u001b[0m in \u001b[0;36m<module>\u001b[0;34m\u001b[0m\n\u001b[1;32m     20\u001b[0m \u001b[0;34m\u001b[0m\u001b[0m\n\u001b[1;32m     21\u001b[0m     \u001b[0;32mwhile\u001b[0m \u001b[0mloss\u001b[0m \u001b[0;34m>\u001b[0m \u001b[0;36m0.03\u001b[0m \u001b[0;32mand\u001b[0m \u001b[0mi\u001b[0m \u001b[0;34m<\u001b[0m \u001b[0meps\u001b[0m \u001b[0;32mand\u001b[0m \u001b[0mabs\u001b[0m\u001b[0;34m(\u001b[0m\u001b[0mold_loss\u001b[0m \u001b[0;34m-\u001b[0m \u001b[0mloss\u001b[0m\u001b[0;34m)\u001b[0m \u001b[0;34m>\u001b[0m \u001b[0;36m5e-5\u001b[0m\u001b[0;34m:\u001b[0m\u001b[0;34m\u001b[0m\u001b[0;34m\u001b[0m\u001b[0m\n\u001b[0;32m---> 22\u001b[0;31m         \u001b[0mx_pred\u001b[0m \u001b[0;34m=\u001b[0m \u001b[0mioc\u001b[0m\u001b[0;34m(\u001b[0m\u001b[0mx_in\u001b[0m\u001b[0;34m)\u001b[0m\u001b[0;34m\u001b[0m\u001b[0;34m\u001b[0m\u001b[0m\n\u001b[0m\u001b[1;32m     23\u001b[0m \u001b[0;34m\u001b[0m\u001b[0m\n\u001b[1;32m     24\u001b[0m         \u001b[0mold_loss\u001b[0m \u001b[0;34m=\u001b[0m \u001b[0mloss\u001b[0m\u001b[0;34m\u001b[0m\u001b[0;34m\u001b[0m\u001b[0m\n",
      "\u001b[0;32m/usr/local/lib/python3.8/dist-packages/torch/nn/modules/module.py\u001b[0m in \u001b[0;36m_call_impl\u001b[0;34m(self, *input, **kwargs)\u001b[0m\n\u001b[1;32m   1049\u001b[0m         if not (self._backward_hooks or self._forward_hooks or self._forward_pre_hooks or _global_backward_hooks\n\u001b[1;32m   1050\u001b[0m                 or _global_forward_hooks or _global_forward_pre_hooks):\n\u001b[0;32m-> 1051\u001b[0;31m             \u001b[0;32mreturn\u001b[0m \u001b[0mforward_call\u001b[0m\u001b[0;34m(\u001b[0m\u001b[0;34m*\u001b[0m\u001b[0minput\u001b[0m\u001b[0;34m,\u001b[0m \u001b[0;34m**\u001b[0m\u001b[0mkwargs\u001b[0m\u001b[0;34m)\u001b[0m\u001b[0;34m\u001b[0m\u001b[0;34m\u001b[0m\u001b[0m\n\u001b[0m\u001b[1;32m   1052\u001b[0m         \u001b[0;31m# Do not call functions when jit is used\u001b[0m\u001b[0;34m\u001b[0m\u001b[0;34m\u001b[0m\u001b[0;34m\u001b[0m\u001b[0m\n\u001b[1;32m   1053\u001b[0m         \u001b[0mfull_backward_hooks\u001b[0m\u001b[0;34m,\u001b[0m \u001b[0mnon_full_backward_hooks\u001b[0m \u001b[0;34m=\u001b[0m \u001b[0;34m[\u001b[0m\u001b[0;34m]\u001b[0m\u001b[0;34m,\u001b[0m \u001b[0;34m[\u001b[0m\u001b[0;34m]\u001b[0m\u001b[0;34m\u001b[0m\u001b[0;34m\u001b[0m\u001b[0m\n",
      "\u001b[0;32m~/devel/workspace/dif_ddp/inverse_qp.py\u001b[0m in \u001b[0;36mforward\u001b[0;34m(self, x_init)\u001b[0m\n\u001b[1;32m     63\u001b[0m         \u001b[0mself\u001b[0m\u001b[0;34m.\u001b[0m\u001b[0mb\u001b[0m\u001b[0;34m[\u001b[0m\u001b[0;34m-\u001b[0m\u001b[0;36m2\u001b[0m\u001b[0;34m*\u001b[0m\u001b[0mself\u001b[0m\u001b[0;34m.\u001b[0m\u001b[0mnq\u001b[0m\u001b[0;34m:\u001b[0m\u001b[0;34m]\u001b[0m \u001b[0;34m=\u001b[0m \u001b[0mx_init\u001b[0m\u001b[0;34m\u001b[0m\u001b[0;34m\u001b[0m\u001b[0m\n\u001b[1;32m     64\u001b[0m \u001b[0;34m\u001b[0m\u001b[0m\n\u001b[0;32m---> 65\u001b[0;31m         \u001b[0mx_opt\u001b[0m \u001b[0;34m=\u001b[0m \u001b[0mDiffQP\u001b[0m\u001b[0;34m.\u001b[0m\u001b[0mapply\u001b[0m\u001b[0;34m(\u001b[0m\u001b[0mself\u001b[0m\u001b[0;34m.\u001b[0m\u001b[0mQ_torch\u001b[0m\u001b[0;34m,\u001b[0m \u001b[0mq\u001b[0m\u001b[0;34m,\u001b[0m \u001b[0mself\u001b[0m\u001b[0;34m.\u001b[0m\u001b[0mG\u001b[0m\u001b[0;34m,\u001b[0m \u001b[0mself\u001b[0m\u001b[0;34m.\u001b[0m\u001b[0mh\u001b[0m\u001b[0;34m,\u001b[0m \u001b[0mself\u001b[0m\u001b[0;34m.\u001b[0m\u001b[0mA\u001b[0m\u001b[0;34m,\u001b[0m \u001b[0mself\u001b[0m\u001b[0;34m.\u001b[0m\u001b[0mb\u001b[0m\u001b[0;34m)\u001b[0m\u001b[0;34m\u001b[0m\u001b[0;34m\u001b[0m\u001b[0m\n\u001b[0m\u001b[1;32m     66\u001b[0m \u001b[0;34m\u001b[0m\u001b[0m\n\u001b[1;32m     67\u001b[0m         \u001b[0;32mreturn\u001b[0m \u001b[0mx_opt\u001b[0m\u001b[0;34m\u001b[0m\u001b[0;34m\u001b[0m\u001b[0m\n",
      "\u001b[0;32m~/devel/workspace/dif_ddp/diff_qp.py\u001b[0m in \u001b[0;36mforward\u001b[0;34m(ctx, Q, q, G, h, A, b)\u001b[0m\n\u001b[1;32m     22\u001b[0m         \u001b[0mq\u001b[0m \u001b[0;34m=\u001b[0m \u001b[0mq\u001b[0m\u001b[0;34m.\u001b[0m\u001b[0mdouble\u001b[0m\u001b[0;34m(\u001b[0m\u001b[0;34m)\u001b[0m\u001b[0;34m.\u001b[0m\u001b[0mdetach\u001b[0m\u001b[0;34m(\u001b[0m\u001b[0;34m)\u001b[0m\u001b[0;34m.\u001b[0m\u001b[0mnumpy\u001b[0m\u001b[0;34m(\u001b[0m\u001b[0;34m)\u001b[0m\u001b[0;34m\u001b[0m\u001b[0;34m\u001b[0m\u001b[0m\n\u001b[1;32m     23\u001b[0m         \u001b[0mt1\u001b[0m \u001b[0;34m=\u001b[0m \u001b[0mtime\u001b[0m\u001b[0;34m.\u001b[0m\u001b[0mtime\u001b[0m\u001b[0;34m(\u001b[0m\u001b[0;34m)\u001b[0m\u001b[0;34m\u001b[0m\u001b[0;34m\u001b[0m\u001b[0m\n\u001b[0;32m---> 24\u001b[0;31m         \u001b[0mx_opt\u001b[0m\u001b[0;34m,\u001b[0m \u001b[0mlag\u001b[0m \u001b[0;34m=\u001b[0m \u001b[0mquadprog_solve_qp\u001b[0m\u001b[0;34m(\u001b[0m\u001b[0mQ\u001b[0m\u001b[0;34m,\u001b[0m \u001b[0mq\u001b[0m\u001b[0;34m,\u001b[0m \u001b[0mG\u001b[0m\u001b[0;34m,\u001b[0m \u001b[0mh\u001b[0m\u001b[0;34m,\u001b[0m \u001b[0mA\u001b[0m\u001b[0;34m,\u001b[0m \u001b[0mb\u001b[0m\u001b[0;34m)\u001b[0m\u001b[0;34m\u001b[0m\u001b[0;34m\u001b[0m\u001b[0m\n\u001b[0m\u001b[1;32m     25\u001b[0m         \u001b[0mt2\u001b[0m \u001b[0;34m=\u001b[0m \u001b[0mtime\u001b[0m\u001b[0;34m.\u001b[0m\u001b[0mtime\u001b[0m\u001b[0;34m(\u001b[0m\u001b[0;34m)\u001b[0m\u001b[0;34m\u001b[0m\u001b[0;34m\u001b[0m\u001b[0m\n\u001b[1;32m     26\u001b[0m         \u001b[0;31m# print(\"solve time:\", t2 - t1)\u001b[0m\u001b[0;34m\u001b[0m\u001b[0;34m\u001b[0m\u001b[0;34m\u001b[0m\u001b[0m\n",
      "\u001b[0;32m~/devel/workspace/dif_ddp/solver.py\u001b[0m in \u001b[0;36mquadprog_solve_qp\u001b[0;34m(P, q, G, h, A, b, initvals)\u001b[0m\n\u001b[1;32m     49\u001b[0m         \u001b[0mmeq\u001b[0m \u001b[0;34m=\u001b[0m \u001b[0;36m0\u001b[0m\u001b[0;34m\u001b[0m\u001b[0;34m\u001b[0m\u001b[0m\n\u001b[1;32m     50\u001b[0m \u001b[0;34m\u001b[0m\u001b[0m\n\u001b[0;32m---> 51\u001b[0;31m     \u001b[0mx_opt\u001b[0m\u001b[0;34m,\u001b[0m \u001b[0m_\u001b[0m\u001b[0;34m,\u001b[0m \u001b[0m_\u001b[0m\u001b[0;34m,\u001b[0m \u001b[0m_\u001b[0m\u001b[0;34m,\u001b[0m \u001b[0mlag\u001b[0m\u001b[0;34m,\u001b[0m \u001b[0miact\u001b[0m \u001b[0;34m=\u001b[0m \u001b[0msolve_qp\u001b[0m\u001b[0;34m(\u001b[0m\u001b[0mqp_G\u001b[0m\u001b[0;34m,\u001b[0m \u001b[0mqp_a\u001b[0m\u001b[0;34m,\u001b[0m \u001b[0mqp_C\u001b[0m\u001b[0;34m,\u001b[0m \u001b[0mqp_b\u001b[0m\u001b[0;34m,\u001b[0m \u001b[0mmeq\u001b[0m\u001b[0;34m)\u001b[0m\u001b[0;34m\u001b[0m\u001b[0;34m\u001b[0m\u001b[0m\n\u001b[0m\u001b[1;32m     52\u001b[0m     \u001b[0;32mreturn\u001b[0m \u001b[0mx_opt\u001b[0m\u001b[0;34m,\u001b[0m \u001b[0mlag\u001b[0m\u001b[0;34m[\u001b[0m\u001b[0mA\u001b[0m\u001b[0;34m.\u001b[0m\u001b[0mshape\u001b[0m\u001b[0;34m[\u001b[0m\u001b[0;36m0\u001b[0m\u001b[0;34m]\u001b[0m\u001b[0;34m:\u001b[0m\u001b[0;34m]\u001b[0m\u001b[0;34m\u001b[0m\u001b[0;34m\u001b[0m\u001b[0m\n",
      "\u001b[0;32mquadprog/quadprog.pyx\u001b[0m in \u001b[0;36mquadprog.solve_qp\u001b[0;34m()\u001b[0m\n",
      "\u001b[0;32m~/.local/lib/python3.8/site-packages/numpy/core/_asarray.py\u001b[0m in \u001b[0;36masarray\u001b[0;34m(a, dtype, order, like)\u001b[0m\n\u001b[1;32m     21\u001b[0m \u001b[0;34m\u001b[0m\u001b[0m\n\u001b[1;32m     22\u001b[0m \u001b[0;34m\u001b[0m\u001b[0m\n\u001b[0;32m---> 23\u001b[0;31m \u001b[0;34m@\u001b[0m\u001b[0mset_array_function_like_doc\u001b[0m\u001b[0;34m\u001b[0m\u001b[0;34m\u001b[0m\u001b[0m\n\u001b[0m\u001b[1;32m     24\u001b[0m \u001b[0;34m@\u001b[0m\u001b[0mset_module\u001b[0m\u001b[0;34m(\u001b[0m\u001b[0;34m'numpy'\u001b[0m\u001b[0;34m)\u001b[0m\u001b[0;34m\u001b[0m\u001b[0;34m\u001b[0m\u001b[0m\n\u001b[1;32m     25\u001b[0m \u001b[0;32mdef\u001b[0m \u001b[0masarray\u001b[0m\u001b[0;34m(\u001b[0m\u001b[0ma\u001b[0m\u001b[0;34m,\u001b[0m \u001b[0mdtype\u001b[0m\u001b[0;34m=\u001b[0m\u001b[0;32mNone\u001b[0m\u001b[0;34m,\u001b[0m \u001b[0morder\u001b[0m\u001b[0;34m=\u001b[0m\u001b[0;32mNone\u001b[0m\u001b[0;34m,\u001b[0m \u001b[0;34m*\u001b[0m\u001b[0;34m,\u001b[0m \u001b[0mlike\u001b[0m\u001b[0;34m=\u001b[0m\u001b[0;32mNone\u001b[0m\u001b[0;34m)\u001b[0m\u001b[0;34m:\u001b[0m\u001b[0;34m\u001b[0m\u001b[0;34m\u001b[0m\u001b[0m\n",
      "\u001b[0;31mKeyboardInterrupt\u001b[0m: "
     ]
    }
   ],
   "source": [
    "x_in = x_init\n",
    "x_des = x_des_arr[np.random.randint(len(x_des_arr))]\n",
    "\n",
    "viz.viewer[\"box\"].set_object(g.Sphere(0.05), \n",
    "                         g.MeshLambertMaterial(\n",
    "                             color=0xff22dd,\n",
    "                             reflectivity=0.8))\n",
    "viz.viewer[\"box\"].set_transform(tf.translation_matrix(x_des.detach().numpy()))\n",
    "\n",
    "\n",
    "for j in range(20):\n",
    "\n",
    "    ioc = IOC(n_col, nq, u_max, 0.05, eps = 1.0, isvec=True)\n",
    "    optimizer = torch.optim.Adam(ioc.parameters(), lr=lr)\n",
    "    \n",
    "    \n",
    "    i = 0\n",
    "    loss = 1000.\n",
    "    old_loss = 10000.\n",
    "    \n",
    "    while loss > 0.03 and i < eps and abs(old_loss - loss) > 5e-5:\n",
    "        x_pred = ioc(x_in) \n",
    "\n",
    "        old_loss = loss\n",
    "\n",
    "        loss = quadratic_loss(x_pred, x_des, nq, n_col)\n",
    "        print(\"Index :\" + str(i) + \" loss is : \" + str(loss.detach().numpy()), end = '\\r', flush = True)\n",
    "\n",
    "        optimizer.zero_grad()\n",
    "        loss.backward()\n",
    "        optimizer.step()\n",
    "        i += 1\n",
    "        \n",
    "    x_pred = ioc(x_in).detach().numpy()\n",
    "\n",
    "    for i in range(n_col+1):\n",
    "        q = x_pred[3*nq*i:3*nq*i + nq]\n",
    "        dq = x_pred[3*nq*i + nq:3*nq*i + 2*nq]\n",
    "\n",
    "        pin.forwardKinematics(model, data, q, dq, np.zeros(nv))\n",
    "        pin.updateFramePlacements(model, data)\n",
    "\n",
    "        viz.display(q)\n",
    "        time.sleep(0.1)\n",
    "    \n",
    "    x_in = torch.tensor(x_pred[-2*nq:])\n",
    "    print(x_in[-2*nq:-nq])"
   ]
  },
  {
   "cell_type": "code",
   "execution_count": null,
   "id": "a7f19fde",
   "metadata": {},
   "outputs": [],
   "source": [
    "torch.utils.cmake_prefix_path"
   ]
  },
  {
   "cell_type": "code",
   "execution_count": null,
   "id": "0b0a64cf",
   "metadata": {},
   "outputs": [],
   "source": [
    "x_train_loaded = torch.load(\"./data/x_train3.pt\")\n",
    "y_train_loaded = torch.load(\"./data/y_train3.pt\")"
   ]
  },
  {
   "cell_type": "code",
   "execution_count": null,
   "id": "89540bbc",
   "metadata": {},
   "outputs": [],
   "source": [
    "# i = 50\n",
    "# n_vars = 3*nq*n_col + 2*nq\n",
    "# data = y_train_loaded[i]\n",
    "# Q = torch.reshape(data[0:n_vars**2], (n_vars, n_vars))\n",
    "# q = torch.nn.Parameter(data[n_vars**2:])\n",
    "# print(q[-2*nq:-nq])\n",
    "# print(q[-nq:])\n",
    "# print(Q[-nq:,-nq:]@q[-nq:])"
   ]
  }
 ],
 "metadata": {
  "kernelspec": {
   "display_name": "Python 3 (ipykernel)",
   "language": "python",
   "name": "python3"
  },
  "language_info": {
   "codemirror_mode": {
    "name": "ipython",
    "version": 3
   },
   "file_extension": ".py",
   "mimetype": "text/x-python",
   "name": "python",
   "nbconvert_exporter": "python",
   "pygments_lexer": "ipython3",
   "version": "3.8.10"
  }
 },
 "nbformat": 4,
 "nbformat_minor": 5
}
