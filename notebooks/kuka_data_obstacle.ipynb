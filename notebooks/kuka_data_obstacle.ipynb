{
 "cells": [
  {
   "cell_type": "code",
   "execution_count": null,
   "metadata": {},
   "outputs": [],
   "source": [
    "%matplotlib inline\n",
    "%load_ext autoreload\n",
    "%autoreload 2"
   ]
  },
  {
   "cell_type": "code",
   "execution_count": null,
   "metadata": {},
   "outputs": [],
   "source": [
    "import os\n",
    "import time\n",
    "import pathlib\n",
    "python_path = pathlib.Path('.').absolute().parent/'python'\n",
    "os.sys.path.insert(1, str(python_path))"
   ]
  },
  {
   "cell_type": "code",
   "execution_count": null,
   "metadata": {},
   "outputs": [],
   "source": [
    "import pinocchio as pin\n",
    "from robot_properties_kuka.config import IiwaConfig\n",
    "\n",
    "import meshcat\n",
    "import meshcat.transformations as tf\n",
    "import meshcat.geometry as g\n",
    "\n",
    "import numpy as np\n",
    "import torch\n",
    "import torch.nn as nn\n",
    "from torch.utils.data import DataLoader\n",
    "\n",
    "from tqdm import trange\n",
    "import wandb"
   ]
  },
  {
   "cell_type": "code",
   "execution_count": null,
   "metadata": {},
   "outputs": [],
   "source": [
    "from vocam.diff_pin_costs import DiffFrameTranslationCost, DiffFrameVelocityCost\n",
    "from vocam.data_gen import generate_obstacle"
   ]
  },
  {
   "cell_type": "code",
   "execution_count": null,
   "metadata": {},
   "outputs": [],
   "source": [
    "robot = IiwaConfig.buildRobotWrapper()\n",
    "model, data = robot.model, robot.data\n",
    "f_id = model.getFrameId(\"EE\")\n",
    "j_id_arr = [f_id]\n",
    "for i in range(3, model.nq + 1):\n",
    "    j_id_arr.append(model.getFrameId(\"A\" + str(i)))\n",
    "\n",
    "viz = pin.visualize.MeshcatVisualizer(robot.model, robot.collision_model, robot.visual_model)\n",
    "viz.initViewer(open=False)\n",
    "viz.loadViewerModel()"
   ]
  },
  {
   "cell_type": "code",
   "execution_count": null,
   "metadata": {},
   "outputs": [],
   "source": [
    "run = wandb.init(project=\"vocam\", group=\"data_obstacle\", entity=\"hjzhu\")"
   ]
  },
  {
   "cell_type": "code",
   "execution_count": null,
   "metadata": {},
   "outputs": [],
   "source": [
    "# robot parameters\n",
    "wandb.config.nq = model.nq\n",
    "wandb.config.nv = model.nv\n",
    "wandb.config.n_col = 5\n",
    "wandb.config.n_vars = 3 * model.nq * wandb.config.n_col + 2 * model.nq\n",
    "wandb.config.u_max = [2.5, 2.5, 2.5, 1.5, 1.5, 1.5, 1.0]\n",
    "wandb.config.dt = 0.05\n",
    "wandb.config.q_init = np.array([2.1789238e-02,  3.3214998e-01, -1.4518893e-04, -8.7141126e-01,\n",
    "                                6.0329604e-01, -1.3965217e-03,  1.4794523e-04])\n",
    "wandb.config.x_init = np.concatenate([wandb.config.q_init, pin.utils.zero(model.nv)])\n",
    "wandb.config.q_noise = 0.6\n",
    "wandb.config.dq_noise = 1.4\n",
    "wandb.config.f_id = f_id\n",
    "wandb.config.j_id_arr = j_id_arr\n",
    "\n",
    "# ioc optimization parameters\n",
    "wandb.config.isvec = True\n",
    "wandb.config.lr_qp = 1e-1\n",
    "wandb.config.max_it = 100\n",
    "wandb.config.task_horizon = 20\n",
    "wandb.config.loss_threshold = 0.05\n",
    "wandb.config.convergence_threshold = 5e-4\n",
    "wandb.config.distance_threshold = 0.10\n",
    "\n",
    "# obstacle parameters\n",
    "wandb.config.n_obs = 1\n",
    "wandb.config.obs_rad = [0.5, 0.35, 0.4] \n",
    "wandb.config.n_restart = 5"
   ]
  },
  {
   "cell_type": "code",
   "execution_count": null,
   "metadata": {},
   "outputs": [],
   "source": [
    "def goal_loss(x_pred, goal, nq, n_col):\n",
    "    dtc = DiffFrameTranslationCost.apply\n",
    "    dvc = DiffFrameVelocityCost.apply\n",
    "\n",
    "    loss  = 6e1*torch.linalg.norm(dtc(x_pred[-2*nq:], model, data, f_id) - goal)\n",
    "    loss += 3e0*torch.linalg.norm(dvc(x_pred[-2*nq:], torch.zeros(nq), model, data, f_id)) # asking for zero velocity\n",
    "    loss += 1e-2*torch.linalg.norm(x_pred[-2*nq:-nq]) # joint regularization\n",
    "    \n",
    "    for i in range(n_col):    \n",
    "        loss += 2e0 * torch.linalg.norm(dtc(x_pred[(3*i)*nq: (3*i+2)*nq], model, data, f_id) - goal)\n",
    "        loss += 5e-1*torch.linalg.norm(dvc(x_pred[(3*i)*nq: (3*i+2)*nq], x_pred[(3*i+2)*nq:(3*i+3)*nq], model, data, f_id)) # asking for zero velocity\n",
    "        loss += 1e-2*torch.linalg.norm(x_pred[(3*i+2)*nq: (3*i+3)*nq]) # control regularization\n",
    "        loss += 2e-1*torch.linalg.norm(x_pred[(3*i+1)*nq: (3*i+2)*nq]) # velocity regularization\n",
    "        loss += 3e-3*torch.linalg.norm(x_pred[(3*i)*nq: (3*i+1)*nq]) # joint regularization\n",
    "        loss += 2e-3*torch.linalg.norm(x_pred[(3*i)*nq+3: (3*i+1)*nq])\n",
    "        loss += 4e-3*torch.linalg.norm(x_pred[(3*i)*nq+5])\n",
    "        \n",
    "        if i < n_col - 1:\n",
    "            loss += 5e-2*torch.linalg.norm(torch.subtract(x_pred[(3*i+2)*nq: (3*i+3)*nq], \\\n",
    "                                                          x_pred[(3*i+5)*nq: (3*i+6)*nq]))\n",
    "\n",
    "    return loss"
   ]
  },
  {
   "cell_type": "code",
   "execution_count": null,
   "metadata": {},
   "outputs": [],
   "source": [
    "def obstacle_loss(x_pred, obs_pos_arr, obs_rad, nq, n_col, j_id_arr):\n",
    "    dtc = DiffFrameTranslationCost.apply\n",
    "    loss = 0\n",
    "    for obs_pos in obs_pos_arr:\n",
    "        for j_id in j_id_arr:\n",
    "            e = dtc(x_pred[-2*nq:], model, data, j_id) - obs_pos\n",
    "            A = torch.diag(1 / (torch.tensor(obs_rad) ** 2)).double()\n",
    "            dist_loss = torch.sqrt(e @ A @ e)\n",
    "            loss += 5e1*torch.exp(-(dist_loss-1.0)/0.01)\n",
    "\n",
    "    return loss"
   ]
  },
  {
   "cell_type": "code",
   "execution_count": null,
   "metadata": {},
   "outputs": [],
   "source": [
    "def task_loss(x_pred, goal, obs_pos_arr, obs_rad, config):\n",
    "    nq, n_col, j_id_arr = config.nq, config.n_col, config.j_id_arr\n",
    "    lo = obstacle_loss(x_pred, obs_pos_arr, obs_rad, nq, n_col, j_id_arr)\n",
    "    lg = goal_loss(x_pred, goal, nq, n_col)\n",
    "    loss = lg + lo\n",
    "    return loss"
   ]
  },
  {
   "cell_type": "code",
   "execution_count": 11,
   "metadata": {
    "scrolled": false
   },
   "outputs": [
    {
     "name": "stderr",
     "output_type": "stream",
     "text": [
      " 79%|███████▉  | 396/500 [1:04:49<14:04,  8.12s/it]"
     ]
    },
    {
     "name": "stdout",
     "output_type": "stream",
     "text": [
      "0.15173398050139453\n"
     ]
    },
    {
     "name": "stderr",
     "output_type": "stream",
     "text": [
      " 80%|████████  | 400/500 [1:05:24<13:19,  8.00s/it]"
     ]
    },
    {
     "name": "stdout",
     "output_type": "stream",
     "text": [
      "0.1174235389305794\n"
     ]
    },
    {
     "name": "stderr",
     "output_type": "stream",
     "text": [
      " 87%|████████▋ | 437/500 [1:11:27<09:15,  8.82s/it]"
     ]
    },
    {
     "name": "stdout",
     "output_type": "stream",
     "text": [
      "0.104420918408839\n"
     ]
    },
    {
     "name": "stderr",
     "output_type": "stream",
     "text": [
      " 97%|█████████▋| 483/500 [1:19:17<02:34,  9.09s/it]"
     ]
    },
    {
     "name": "stdout",
     "output_type": "stream",
     "text": [
      "0.17746186957112145\n"
     ]
    },
    {
     "name": "stderr",
     "output_type": "stream",
     "text": [
      " 98%|█████████▊| 489/500 [1:20:21<01:52, 10.25s/it]"
     ]
    },
    {
     "name": "stdout",
     "output_type": "stream",
     "text": [
      "0.11827616115544878\n"
     ]
    },
    {
     "name": "stderr",
     "output_type": "stream",
     "text": [
      " 98%|█████████▊| 491/500 [1:20:42<01:30, 10.04s/it]"
     ]
    },
    {
     "name": "stdout",
     "output_type": "stream",
     "text": [
      "0.10083286885701577\n"
     ]
    },
    {
     "name": "stderr",
     "output_type": "stream",
     "text": [
      "100%|██████████| 500/500 [1:22:13<00:00,  9.87s/it]\n"
     ]
    }
   ],
   "source": [
    "n_tasks = 500\n",
    "x_train, y_train = generate_obstacle(n_tasks, task_loss, robot, wandb.config, viz)"
   ]
  },
  {
   "cell_type": "code",
   "execution_count": 12,
   "metadata": {},
   "outputs": [],
   "source": [
    "data_dir = '../data/'"
   ]
  },
  {
   "cell_type": "code",
   "execution_count": 13,
   "metadata": {},
   "outputs": [],
   "source": [
    "n_run = run.name.split('-')[-1]\n",
    "file_path = data_dir + 'data_obstacle_' + str(n_tasks) + '_' + n_run + '.pt'\n",
    "data_train = list(zip(x_train, y_train))\n",
    "torch.save(data_train, file_path)"
   ]
  },
  {
   "cell_type": "code",
   "execution_count": 14,
   "metadata": {},
   "outputs": [
    {
     "name": "stderr",
     "output_type": "stream",
     "text": [
      "\u001b[34m\u001b[1mwandb\u001b[0m: Adding directory to artifact (./../data)... Done. 0.1s\n"
     ]
    },
    {
     "data": {
      "text/plain": [
       "<wandb.sdk.wandb_artifacts.Artifact at 0x7f386800c6a0>"
      ]
     },
     "execution_count": 14,
     "metadata": {},
     "output_type": "execute_result"
    }
   ],
   "source": [
    "data_artifacts = wandb.Artifact('data_obstacle', type='dataset')\n",
    "data_artifacts.add_dir(data_dir)\n",
    "run.log_artifact(data_artifacts)"
   ]
  },
  {
   "cell_type": "code",
   "execution_count": null,
   "metadata": {},
   "outputs": [],
   "source": []
  }
 ],
 "metadata": {
  "kernelspec": {
   "display_name": "Python 3",
   "language": "python",
   "name": "python3"
  },
  "language_info": {
   "codemirror_mode": {
    "name": "ipython",
    "version": 3
   },
   "file_extension": ".py",
   "mimetype": "text/x-python",
   "name": "python",
   "nbconvert_exporter": "python",
   "pygments_lexer": "ipython3",
   "version": "3.6.9"
  }
 },
 "nbformat": 4,
 "nbformat_minor": 5
}
