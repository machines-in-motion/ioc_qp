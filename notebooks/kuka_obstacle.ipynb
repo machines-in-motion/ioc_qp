{
 "cells": [
  {
   "cell_type": "code",
   "execution_count": 1,
   "metadata": {},
   "outputs": [],
   "source": [
    "%matplotlib inline\n",
    "%load_ext autoreload\n",
    "%autoreload 2"
   ]
  },
  {
   "cell_type": "code",
   "execution_count": 2,
   "metadata": {},
   "outputs": [],
   "source": [
    "import os\n",
    "import time\n",
    "import pathlib\n",
    "\n",
    "python_path = pathlib.Path('.').absolute().parent/'python'\n",
    "os.sys.path.insert(1, str(python_path))"
   ]
  },
  {
   "cell_type": "code",
   "execution_count": 3,
   "metadata": {},
   "outputs": [],
   "source": [
    "## This is demo for kuka reaching a with mpc and diff_qp\n",
    "## Author : Avadesh Meduri\n",
    "## Date : 25/02/2022\n",
    "\n",
    "import time\n",
    "import numpy as np\n",
    "import pinocchio as pin\n",
    "from robot_properties_kuka.config import IiwaConfig\n",
    "from matplotlib import pyplot as plt\n",
    "\n",
    "import meshcat\n",
    "import meshcat.transformations as tf\n",
    "import meshcat.geometry as g\n",
    "\n",
    "from vocam.diff_pin_costs import DiffFrameTranslationCost, DiffFrameVelocityCost\n",
    "from vocam.inverse_qp import IOC\n",
    "\n",
    "import torch\n",
    "from torch.autograd import Function\n",
    "from torch.nn import functional as F"
   ]
  },
  {
   "cell_type": "code",
   "execution_count": 4,
   "metadata": {},
   "outputs": [],
   "source": [
    "robot = IiwaConfig.buildRobotWrapper()\n",
    "model, data = robot.model, robot.data\n",
    "f_id = model.getFrameId(\"EE\")\n",
    "j_id = [f_id]\n",
    "for i in range(3, model.nq+1):\n",
    "    j_id.append(model.getFrameId(\"A\" + str(i)))"
   ]
  },
  {
   "cell_type": "code",
   "execution_count": 5,
   "metadata": {},
   "outputs": [
    {
     "name": "stdout",
     "output_type": "stream",
     "text": [
      "You can open the visualizer by visiting the following URL:\n",
      "http://127.0.0.1:7019/static/\n"
     ]
    }
   ],
   "source": [
    "viz = pin.visualize.MeshcatVisualizer(robot.model, robot.collision_model, robot.visual_model)\n",
    "viz.initViewer(open=True)\n",
    "viz.loadViewerModel()"
   ]
  },
  {
   "cell_type": "code",
   "execution_count": 6,
   "metadata": {},
   "outputs": [],
   "source": [
    "dtc = DiffFrameTranslationCost.apply\n",
    "dvc = DiffFrameVelocityCost.apply\n",
    "\n",
    "def quadratic_loss(q_pred, goal, nq, n_col):\n",
    "    loss = 6.0e1*torch.linalg.norm(dtc(q_pred[-2*nq:], model, data, f_id) - goal)\n",
    "    loss += 2.5e0*torch.linalg.norm(dvc(q_pred[-2*nq:], torch.zeros(nq), model, data, f_id)) # asking for zero velocity\n",
    "    loss += 1e-2*torch.linalg.norm(q_pred[-2*nq:-nq]) # joint regularization\n",
    "    \n",
    "    for i in range(n_col):    \n",
    "        loss += 2e0 * torch.linalg.norm(dtc(q_pred[(3*i)*nq: (3*i+2)*nq], model, data, f_id) - goal)\n",
    "        loss += 5e-1*torch.linalg.norm(dvc(q_pred[(3*i)*nq: (3*i+2)*nq], q_pred[(3*i+2)*nq:(3*i+3)*nq], model, data, f_id)) # asking for zero velocity\n",
    "        loss += 1e-2*torch.linalg.norm(q_pred[(3*i+2)*nq: (3*i+3)*nq]) # control regularization\n",
    "        loss += 2e-1*torch.linalg.norm(q_pred[(3*i+1)*nq: (3*i+2)*nq]) # velocity regularization\n",
    "        loss += 3e-3*torch.linalg.norm(q_pred[(3*i)*nq: (3*i+1)*nq]) # joint regularization\n",
    "        loss += 2e-3*torch.linalg.norm(q_pred[(3*i)*nq+3: (3*i+1)*nq])\n",
    "        loss += 4e-3*torch.linalg.norm(q_pred[(3*i)*nq+5])\n",
    "        \n",
    "        if i < n_col - 1:\n",
    "            loss += 5e-2*torch.linalg.norm(torch.subtract(q_pred[(3*i+2)*nq: (3*i+3)*nq], \\\n",
    "                                                          q_pred[(3*i+5)*nq: (3*i+6)*nq]))\n",
    "\n",
    "    return loss"
   ]
  },
  {
   "cell_type": "code",
   "execution_count": 7,
   "metadata": {},
   "outputs": [],
   "source": [
    "obs_rad = [0.5, 0.35, 0.4]"
   ]
  },
  {
   "cell_type": "code",
   "execution_count": 8,
   "metadata": {},
   "outputs": [],
   "source": [
    "def obstacle_loss(q_pred, goal, nq, n_col, obs_pos_arr, obs_rad):\n",
    "    \n",
    "    loss = quadratic_loss(q_pred, goal, nq, n_col)\n",
    "    \n",
    "    for k in range(len(obs_pos_arr)):\n",
    "        obs_pos = obs_pos_arr[k]\n",
    "        for i in range(len(j_id)):\n",
    "            e = dtc(q_pred[-2*nq:], model, data, j_id[i]) - obs_pos\n",
    "            A = torch.diag(1 / (torch.tensor(obs_rad) ** 2)).double()\n",
    "            dist_loss = torch.sqrt(e @ A @ e)\n",
    "            loss += 5e1*torch.exp(-(dist_loss-1.0)/0.01)\n",
    "\n",
    "    return loss"
   ]
  },
  {
   "cell_type": "code",
   "execution_count": 11,
   "metadata": {},
   "outputs": [],
   "source": [
    "nq = model.nq\n",
    "nv = model.nv\n",
    "\n",
    "n_col = 5\n",
    "u_max = [3.5,4.5,2.5, 2.5, 1.5, 1.5, 1.0]\n",
    "\n",
    "lr = 1e-1\n",
    "eps = 80\n",
    "\n",
    "# q_des = np.hstack(((np.pi/4)*(np.random.randint(0, 2, size = 5)), np.zeros(2)))\n",
    "\n",
    "q_des_arr = np.array([[2.1789238e-02,  3.3214998e-01, -1.4518893e-04, -8.7141126e-01,\n",
    "                          6.0329604e-01, -1.3965217e-03,  1.4794523e-04],\n",
    "                      [1.3737, 0.9711, 1.6139, 1.2188, 1.5669, 0.1236, 0.2565]])\n",
    "goal_arr = torch.tensor([[0.4, -0.3, 0.5], [0.4, 0.3, 0.5]]) #torch.tensor([[0.6, 0.4, 0.5]]) #[0.6, 0.4, 1.0]\n",
    "\n",
    "# q_init = np.hstack(((np.pi/8)*np.random.choice(list(range(-2, -1)) + list(range(1, 3)), size=(4)), np.zeros(3)))\n",
    "\n",
    "x_init = np.zeros(2*nq)\n",
    "x_init[0:nq] = q_des_arr[0] + 0.3*2*(np.random.rand(nq) - 0.5)\n",
    "x_init[0] -= 2*0.5*(np.random.rand(1) - 0.5)\n",
    "x_init[2] -= 2*0.3*(np.random.rand(1) - 0.5)\n",
    "x_init[nq:] = 0.7*2*(np.random.rand(nv) - 0.5)\n",
    "\n",
    "x_in = x_init"
   ]
  },
  {
   "cell_type": "code",
   "execution_count": 2,
   "metadata": {},
   "outputs": [],
   "source": [
    "import numpy as np"
   ]
  },
  {
   "cell_type": "code",
   "execution_count": 9,
   "metadata": {},
   "outputs": [
    {
     "data": {
      "text/plain": [
       "1"
      ]
     },
     "execution_count": 9,
     "metadata": {},
     "output_type": "execute_result"
    }
   ],
   "source": []
  },
  {
   "cell_type": "code",
   "execution_count": null,
   "metadata": {
    "scrolled": false
   },
   "outputs": [
    {
     "name": "stdout",
     "output_type": "stream",
     "text": [
      "0\n",
      "Index :10 loss is : 59.24696216839978\r"
     ]
    },
    {
     "name": "stderr",
     "output_type": "stream",
     "text": [
      "/usr/local/lib/python3.6/dist-packages/ipykernel_launcher.py:6: UserWarning: Creating a tensor from a list of numpy.ndarrays is extremely slow. Please consider converting the list to a single numpy.ndarray with numpy.array() before converting to a tensor. (Triggered internally at  ../torch/csrc/utils/tensor_new.cpp:201.)\n",
      "  \n"
     ]
    },
    {
     "name": "stdout",
     "output_type": "stream",
     "text": [
      "1ndex :79 loss is : 0.44397366719214044\n",
      "0ndex :60 loss is : 3.2550986047701476\n",
      "1ndex :79 loss is : 1.5990600074584649\n",
      "0ndex :46 loss is : 7.6854248175651125\n",
      "1ndex :63 loss is : 44.692725155794195\n",
      "Index :12 loss is : 33.694306166612194\r"
     ]
    }
   ],
   "source": [
    "for k in range(10):\n",
    "    r = 0.3*np.random.rand(1) + 0.5\n",
    "    rint = k % 2\n",
    "    print(rint)\n",
    "    theta = rint*(0.1*np.pi*(np.random.rand(1)) + 0.65*np.pi) + (1-rint)*(0.1*np.pi*(np.random.rand(1)) + 0.25*np.pi)\n",
    "    goal = torch.squeeze(torch.tensor([r*np.sin(theta), r*np.cos(theta), 0.15*np.random.rand(1)+0.15]))\n",
    "\n",
    "    viz.viewer[\"box\"].set_object(g.Sphere(0.05), \n",
    "                             g.MeshLambertMaterial(\n",
    "                                 color=0xff22dd,\n",
    "                                 reflectivity=0.8))\n",
    "    viz.viewer[\"box\"].set_transform(tf.translation_matrix(goal.detach().numpy()))\n",
    "\n",
    "\n",
    "    nb_balls = 1\n",
    "    obs_rad = 0.5\n",
    "    # obs_pos_arr = [torch.tensor([0.5, 0.0, 0.6]), torch.tensor([0.5, 0.3, 0.4]), torch.tensor([0.5, -0.3, 0.4])]\n",
    "    obs_pos_arr = []\n",
    "    for l in range(nb_balls):\n",
    "        r = 0.0*np.random.rand(1) +0.5\n",
    "        theta = 0.0*np.pi*(np.random.rand(1) - 0.5) + 0.5*np.pi\n",
    "        ht = 0.0*np.random.rand(1) \n",
    "        obs_pos = torch.squeeze(torch.tensor([r*np.sin(theta), r*np.cos(theta), ht]))\n",
    "        obs_pos_arr.append(obs_pos)\n",
    "        viz.viewer[\"obstacle_\" + str(l)].set_object(g.Ellipsoid(r_e), \n",
    "                                 g.MeshLambertMaterial(\n",
    "                                     color=0x22ddff,\n",
    "                                     reflectivity=0.8))\n",
    "        viz.viewer[\"obstacle_\" + str(l)].set_transform(tf.translation_matrix(obs_pos.detach().numpy()))\n",
    "    plt_ddq = []\n",
    "\n",
    "    for j in range(10):\n",
    "\n",
    "        ioc = IOC(n_col, nq, u_max, 0.05, eps = 1.0, isvec=True)\n",
    "        optimizer = torch.optim.Adam(ioc.parameters(), lr=lr)\n",
    "\n",
    "\n",
    "        i = 0\n",
    "        loss = 1000.\n",
    "        old_loss = 10000.\n",
    "\n",
    "        while loss > 0.03 and i < eps and abs(old_loss - loss) > 5e-5:\n",
    "            x_pred = ioc(x_in) \n",
    "\n",
    "            old_loss = loss\n",
    "\n",
    "    #         loss = quadratic_loss(x_pred, goal, nq, n_col)\n",
    "            loss = obstacle_loss(x_pred, goal, nq, n_col, obs_pos_arr, obs_rad)\n",
    "            print(\"Index :\" + str(i) + \" loss is : \" + str(loss.detach().numpy()), end = '\\r', flush = True)\n",
    "\n",
    "            optimizer.zero_grad()\n",
    "            loss.backward()\n",
    "            optimizer.step()\n",
    "            i += 1\n",
    "\n",
    "        x_pred = ioc(x_in).detach().numpy()\n",
    "\n",
    "        for i in range(n_col+1):\n",
    "            q = x_pred[3*nq*i:3*nq*i + nq]\n",
    "            dq = x_pred[3*nq*i + nq:3*nq*i + 2*nq]\n",
    "            if i < n_col:\n",
    "                ddq = x_pred[3*nq*i + 2*nq:3*nq*i + 3*nq]\n",
    "                plt_ddq.append(ddq)\n",
    "            pin.forwardKinematics(model, data, q, dq, np.zeros(nv))\n",
    "            pin.updateFramePlacements(model, data)\n",
    "\n",
    "            viz.display(q)\n",
    "            time.sleep(0.1)\n",
    "\n",
    "        x_in = torch.tensor(x_pred[-2*nq:])"
   ]
  },
  {
   "cell_type": "code",
   "execution_count": null,
   "metadata": {},
   "outputs": [],
   "source": []
  }
 ],
 "metadata": {
  "kernelspec": {
   "display_name": "Python 3",
   "language": "python",
   "name": "python3"
  },
  "language_info": {
   "codemirror_mode": {
    "name": "ipython",
    "version": 3
   },
   "file_extension": ".py",
   "mimetype": "text/x-python",
   "name": "python",
   "nbconvert_exporter": "python",
   "pygments_lexer": "ipython3",
   "version": "3.6.9"
  }
 },
 "nbformat": 4,
 "nbformat_minor": 5
}
