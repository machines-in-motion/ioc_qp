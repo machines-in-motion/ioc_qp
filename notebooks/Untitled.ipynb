{
 "cells": [
  {
   "cell_type": "code",
   "execution_count": 1,
   "id": "10273458",
   "metadata": {},
   "outputs": [],
   "source": [
    "%matplotlib inline\n",
    "%load_ext autoreload\n",
    "%autoreload 2"
   ]
  },
  {
   "cell_type": "code",
   "execution_count": 2,
   "id": "be95710a",
   "metadata": {},
   "outputs": [],
   "source": [
    "import os\n",
    "import time\n",
    "import pathlib\n",
    "\n",
    "python_path = pathlib.Path('.').absolute().parent/'python'\n",
    "os.sys.path.insert(1, str(python_path))"
   ]
  },
  {
   "cell_type": "code",
   "execution_count": 3,
   "id": "2405a9af",
   "metadata": {},
   "outputs": [
    {
     "name": "stderr",
     "output_type": "stream",
     "text": [
      "<frozen importlib._bootstrap>:219: RuntimeWarning: to-Python converter for boost::shared_ptr<hpp::fcl::CollisionGeometry> already registered; second conversion method ignored.\n"
     ]
    }
   ],
   "source": [
    "## This is demo for kuka reaching a with mpc and diff_qp\n",
    "## Author : Avadesh Meduri\n",
    "## Date : 25/02/2022\n",
    "\n",
    "import time\n",
    "import numpy as np\n",
    "import pinocchio as pin\n",
    "from robot_properties_kuka.config import IiwaConfig\n",
    "from matplotlib import pyplot as plt\n",
    "\n",
    "import meshcat\n",
    "import meshcat.transformations as tf\n",
    "import meshcat.geometry as g\n",
    "\n",
    "from vocam.diff_pin_costs import DiffFrameTranslationCost, DiffFrameVelocityCost\n",
    "from vocam.inverse_qp import IOC\n",
    "\n",
    "import torch\n",
    "from torch.autograd import Function\n",
    "from torch.nn import functional as F\n",
    "from pinocchio.robot_wrapper import RobotWrapper"
   ]
  },
  {
   "cell_type": "code",
   "execution_count": 4,
   "id": "0a4ac0cf",
   "metadata": {},
   "outputs": [],
   "source": [
    "urdf_path = \"/home/ameduri/devel/workspace/robot_properties/example-robot-data/robots/panda_description/urdf/panda.urdf\"\n",
    "meshes_path = \"/home/ameduri/devel/workspace/robot_properties/example-robot-data/robots/panda_description/meshes/\"\n",
    "robot = RobotWrapper.BuildFromURDF(\n",
    "            urdf_path, meshes_path)\n",
    "robot = IiwaConfig.buildRobotWrapper()\n"
   ]
  },
  {
   "cell_type": "code",
   "execution_count": 5,
   "id": "3b9cdc4c",
   "metadata": {},
   "outputs": [],
   "source": [
    "model, data = robot.model, robot.data\n",
    "# f_id = model.getFrameId(\"panda_hand_joint\")\n",
    "f_id = model.getFrameId(\"EE\")\n",
    "\n",
    "# j_id = [f_id]\n",
    "# o_id = model.getFrameId(\"A7\")"
   ]
  },
  {
   "cell_type": "code",
   "execution_count": 6,
   "id": "be33694d",
   "metadata": {},
   "outputs": [
    {
     "name": "stdout",
     "output_type": "stream",
     "text": [
      "You can open the visualizer by visiting the following URL:\n",
      "http://127.0.0.1:7001/static/\n"
     ]
    }
   ],
   "source": [
    "viz = pin.visualize.MeshcatVisualizer(robot.model, robot.collision_model, robot.visual_model)\n",
    "viz.initViewer(open=True)\n",
    "viz.loadViewerModel()"
   ]
  },
  {
   "cell_type": "code",
   "execution_count": 7,
   "id": "e2856be6",
   "metadata": {},
   "outputs": [],
   "source": [
    "class DiffFramePlacementCost(Function):\n",
    "    \"\"\"\n",
    "    This cost provides gradients wrt joint position and velocity for the final end effector/frame placement\n",
    "    \"\"\"\n",
    "    @staticmethod\n",
    "    def forward(ctx, state, model, data, f_id, M_des):\n",
    "        \"\"\"\n",
    "        Input:\n",
    "            state : vector (q, dq)\n",
    "            model : pinocchio robot model\n",
    "            data : pinocchio robot data\n",
    "            f_id : frame id for which derivatives are desired\n",
    "        \"\"\"\n",
    "        state = state.double().detach().numpy()\n",
    "        nq, nv = model.nq, model.nv\n",
    "        pin.forwardKinematics(model, data, state[0:nq], state[nq:nq + nv], np.zeros(nv))\n",
    "        pin.updateFramePlacements(model, data)\n",
    "        \n",
    "        se3_error = pin.SE3(M_des).inverse() * data.oMf[f_id]\n",
    "        error = np.array(pin.log6(se3_error))\n",
    "        \n",
    "        J_error = pin.Jlog6(se3_error)       \n",
    "        J = pin.computeFrameJacobian(model, data, state[0:nq], f_id, pin.ReferenceFrame.LOCAL)\n",
    "        \n",
    "        ctx.J = torch.tensor(J_error @ J)\n",
    "        \n",
    "        return torch.tensor(error)\n",
    "\n",
    "    @staticmethod\n",
    "    def backward(ctx, grad):\n",
    "        \n",
    "        jac = ctx.J\n",
    "        fk_q = jac.t()@grad # derivative wrt joint positions\n",
    "        fk_dq = torch.zeros(len(fk_q)) # derivative wrt joint velocities\n",
    "        \n",
    "        return torch.hstack((fk_q, fk_dq)), None, None, None, None\n",
    "        "
   ]
  },
  {
   "cell_type": "code",
   "execution_count": 8,
   "id": "c4c2b980",
   "metadata": {},
   "outputs": [],
   "source": [
    "class DiffFrameOrientationCost(Function):\n",
    "    \"\"\"\n",
    "    This cost provides gradients wrt joint position and velocity for the final end effector/frame placement\n",
    "    \"\"\"\n",
    "    @staticmethod\n",
    "    def forward(ctx, state, model, data, f_id, M_des):\n",
    "        \"\"\"\n",
    "        Input:\n",
    "            state : vector (q, dq)\n",
    "            model : pinocchio robot model\n",
    "            data : pinocchio robot data\n",
    "            f_id : frame id for which derivatives are desired\n",
    "        \"\"\"\n",
    "        state = state.double().detach().numpy()\n",
    "        nq, nv = model.nq, model.nv\n",
    "        pin.forwardKinematics(model, data, state[0:nq], state[nq:nq + nv], np.zeros(nv))\n",
    "        pin.updateFramePlacements(model, data)\n",
    "        \n",
    "        se3_error = np.linalg.inv(M_des) * data.oMf[f_id].rotation\n",
    "        error = np.array(pin.log3(se3_error))\n",
    "        \n",
    "        J_error = pin.Jlog3(se3_error)       \n",
    "        J = pin.computeFrameJacobian(model, data, state[0:nq], f_id, pin.ReferenceFrame.LOCAL)\n",
    "        \n",
    "        ctx.J = torch.tensor(J_error @ J[3:6])\n",
    "        \n",
    "        return torch.tensor(error)\n",
    "\n",
    "    @staticmethod\n",
    "    def backward(ctx, grad):\n",
    "        \n",
    "        jac = ctx.J\n",
    "        fk_q = jac.t()@grad # derivative wrt joint positions\n",
    "        fk_dq = torch.zeros(len(fk_q)) # derivative wrt joint velocities\n",
    "        \n",
    "        return torch.hstack((fk_q, fk_dq)), None, None, None, None"
   ]
  },
  {
   "cell_type": "code",
   "execution_count": 9,
   "id": "3ddb4fcc",
   "metadata": {},
   "outputs": [],
   "source": [
    "dtc = DiffFrameTranslationCost.apply\n",
    "dvc = DiffFrameVelocityCost.apply\n",
    "dfc = DiffFramePlacementCost.apply\n",
    "\n",
    "def quadratic_loss(q_pred, goal, nq, n_col, j):\n",
    "    \n",
    "    O_des = np.array(pin.utils.rpyToMatrix(-np.pi/4, np.pi/2, 0))\n",
    "#     error = doc(q_pred[-2*nq:], model, data, f_id, O_des)\n",
    "#       wt = 1e1*np.eye(3)\n",
    "  \n",
    "    M_des = np.eye(4,4)\n",
    "    M_des[0:3,0:3] = O_des\n",
    "    M_des[0:3,3] = goal\n",
    "    wt = 1e3*np.eye(6)\n",
    "    wt[3,3] = 5e1\n",
    "    wt[4,4] = 5e1\n",
    "    wt[5,5] = 5e1\n",
    "    error = dfc(q_pred[-2*nq:], model, data, f_id, M_des)\n",
    "    \n",
    "    loss = error.t()@torch.tensor(wt)@error\n",
    "    \n",
    "#     loss += 5.0e1*torch.linalg.norm(dtc(q_pred[-2*nq:], model, data, f_id) - goal)\n",
    "    \n",
    "    loss += 2.5e0*torch.linalg.norm(dvc(q_pred[-2*nq:], torch.zeros(nq), model, data, f_id)) # asking for zero velocity\n",
    "    loss += 1e-3*torch.linalg.norm(q_pred[-2*nq:-nq]) # joint regularization\n",
    "    \n",
    "    for i in range(n_col):    \n",
    "        loss += 2e0 * torch.linalg.norm(dtc(q_pred[(3*i)*nq: (3*i+2)*nq], model, data, f_id) - goal)\n",
    "        loss += 5e-1*torch.linalg.norm(dvc(q_pred[(3*i)*nq: (3*i+2)*nq], q_pred[(3*i+2)*nq:(3*i+3)*nq], model, data, f_id)) # asking for zero velocity\n",
    "        loss += 1e-2*torch.linalg.norm(q_pred[(3*i+2)*nq: (3*i+3)*nq]) # control regularization\n",
    "        loss += 2e-1*torch.linalg.norm(q_pred[(3*i+1)*nq: (3*i+2)*nq]) # velocity regularization\n",
    "        loss += 5e-3*torch.linalg.norm(q_pred[(3*i)*nq: (3*i+1)*nq]) # joint regularization\n",
    "        loss += 2e-3*torch.linalg.norm(q_pred[(3*i)*nq+3: (3*i+1)*nq])\n",
    "        loss += 4e-3*torch.linalg.norm(q_pred[(3*i)*nq+5])\n",
    "        \n",
    "#         if i < n_col - 1:\n",
    "#             loss += 5e-2*torch.linalg.norm(torch.subtract(q_pred[(3*i+2)*nq: (3*i+3)*nq], \\\n",
    "#                                                           q_pred[(3*i+5)*nq: (3*i+6)*nq]))\n",
    "\n",
    "    return loss"
   ]
  },
  {
   "cell_type": "code",
   "execution_count": 10,
   "id": "1866bc6d",
   "metadata": {},
   "outputs": [],
   "source": [
    "obs_rad = [0.5, 0.35, 0.4]"
   ]
  },
  {
   "cell_type": "code",
   "execution_count": 11,
   "id": "c0a227c5",
   "metadata": {},
   "outputs": [],
   "source": [
    "nq = model.nq\n",
    "nv = model.nv\n",
    "\n",
    "n_col = 5\n",
    "u_max = [3.5,4.5,2.5, 2.5, 1.5, 1.5, 1.0]\n",
    "\n",
    "lr = 1e-1\n",
    "eps = 80\n",
    "\n",
    "# q_des = np.hstack(((np.pi/4)*(np.random.randint(0, 2, size = 5)), np.zeros(2)))\n",
    "\n",
    "q_des_arr = np.array([[2.1789238e-02,  3.3214998e-01, -1.4518893e-04, -8.7141126e-01,\n",
    "                          6.0329604e-01, -1.3965217e-03,  1.4794523e-04],\n",
    "                      [1.3737, 0.9711, 1.6139, 1.2188, 1.5669, 0.1236, 0.2565]])\n",
    "goal_arr = torch.tensor([[0.4, -0.3, 0.5], [0.4, 0.3, 0.5]]) #torch.tensor([[0.6, 0.4, 0.5]]) #[0.6, 0.4, 1.0]\n",
    "\n",
    "# q_init = np.hstack(((np.pi/8)*np.random.choice(list(range(-2, -1)) + list(range(1, 3)), size=(4)), np.zeros(3)))\n",
    "\n",
    "x_init = np.zeros(2*nq)\n",
    "x_init[0:nq] = q_des_arr[0] + 0.3*2*(np.random.rand(nq) - 0.5)\n",
    "# x_init[5] = np.pi\n",
    "x_init[0] -= 2*0.5*(np.random.rand(1) - 0.5)\n",
    "x_init[2] -= 2*0.3*(np.random.rand(1) - 0.5)\n",
    "x_init[nq:] = 0.7*2*(np.random.rand(nv) - 0.5)\n",
    "\n",
    "x_in = x_init"
   ]
  },
  {
   "cell_type": "code",
   "execution_count": 12,
   "id": "01138a06",
   "metadata": {},
   "outputs": [
    {
     "name": "stdout",
     "output_type": "stream",
     "text": [
      "0\n",
      "Index :79 loss is : 118.31834679259025\r"
     ]
    },
    {
     "ename": "KeyboardInterrupt",
     "evalue": "",
     "output_type": "error",
     "traceback": [
      "\u001b[0;31m---------------------------------------------------------------------------\u001b[0m",
      "\u001b[0;31mKeyboardInterrupt\u001b[0m                         Traceback (most recent call last)",
      "Input \u001b[0;32mIn [12]\u001b[0m, in \u001b[0;36m<cell line: 1>\u001b[0;34m()\u001b[0m\n\u001b[1;32m     46\u001b[0m     pin\u001b[38;5;241m.\u001b[39mforwardKinematics(model, data, q, dq, np\u001b[38;5;241m.\u001b[39mzeros(nv))\n\u001b[1;32m     47\u001b[0m     pin\u001b[38;5;241m.\u001b[39mupdateFramePlacements(model, data)\n\u001b[0;32m---> 48\u001b[0m     \u001b[43mviz\u001b[49m\u001b[38;5;241;43m.\u001b[39;49m\u001b[43mdisplay\u001b[49m\u001b[43m(\u001b[49m\u001b[43mq\u001b[49m\u001b[43m)\u001b[49m\n\u001b[1;32m     49\u001b[0m     time\u001b[38;5;241m.\u001b[39msleep(\u001b[38;5;241m0.1\u001b[39m)\n\u001b[1;32m     51\u001b[0m x_in \u001b[38;5;241m=\u001b[39m torch\u001b[38;5;241m.\u001b[39mtensor(x_pred[\u001b[38;5;241m-\u001b[39m\u001b[38;5;241m2\u001b[39m\u001b[38;5;241m*\u001b[39mnq:])\n",
      "File \u001b[0;32m/opt/openrobots/lib/python3.8/site-packages/pinocchio/visualize/meshcat_visualizer.py:372\u001b[0m, in \u001b[0;36mMeshcatVisualizer.display\u001b[0;34m(self, q)\u001b[0m\n\u001b[1;32m    369\u001b[0m     \u001b[38;5;28mself\u001b[39m\u001b[38;5;241m.\u001b[39mupdatePlacements(pin\u001b[38;5;241m.\u001b[39mGeometryType\u001b[38;5;241m.\u001b[39mCOLLISION)\n\u001b[1;32m    371\u001b[0m \u001b[38;5;28;01mif\u001b[39;00m \u001b[38;5;28mself\u001b[39m\u001b[38;5;241m.\u001b[39mdisplay_visuals:\n\u001b[0;32m--> 372\u001b[0m     \u001b[38;5;28;43mself\u001b[39;49m\u001b[38;5;241;43m.\u001b[39;49m\u001b[43mupdatePlacements\u001b[49m\u001b[43m(\u001b[49m\u001b[43mpin\u001b[49m\u001b[38;5;241;43m.\u001b[39;49m\u001b[43mGeometryType\u001b[49m\u001b[38;5;241;43m.\u001b[39;49m\u001b[43mVISUAL\u001b[49m\u001b[43m)\u001b[49m\n",
      "File \u001b[0;32m/opt/openrobots/lib/python3.8/site-packages/pinocchio/visualize/meshcat_visualizer.py:396\u001b[0m, in \u001b[0;36mMeshcatVisualizer.updatePlacements\u001b[0;34m(self, geometry_type)\u001b[0m\n\u001b[1;32m    393\u001b[0m     T \u001b[38;5;241m=\u001b[39m M\u001b[38;5;241m.\u001b[39mhomogeneous\n\u001b[1;32m    395\u001b[0m \u001b[38;5;66;03m# Update viewer configuration.\u001b[39;00m\n\u001b[0;32m--> 396\u001b[0m \u001b[38;5;28;43mself\u001b[39;49m\u001b[38;5;241;43m.\u001b[39;49m\u001b[43mviewer\u001b[49m\u001b[43m[\u001b[49m\u001b[43mvisual_name\u001b[49m\u001b[43m]\u001b[49m\u001b[38;5;241;43m.\u001b[39;49m\u001b[43mset_transform\u001b[49m\u001b[43m(\u001b[49m\u001b[43mT\u001b[49m\u001b[43m)\u001b[49m\n",
      "File \u001b[0;32m~/.local/lib/python3.8/site-packages/meshcat/visualizer.py:152\u001b[0m, in \u001b[0;36mVisualizer.set_transform\u001b[0;34m(self, matrix)\u001b[0m\n\u001b[1;32m    151\u001b[0m \u001b[38;5;28;01mdef\u001b[39;00m \u001b[38;5;21mset_transform\u001b[39m(\u001b[38;5;28mself\u001b[39m, matrix\u001b[38;5;241m=\u001b[39mnp\u001b[38;5;241m.\u001b[39meye(\u001b[38;5;241m4\u001b[39m)):\n\u001b[0;32m--> 152\u001b[0m     \u001b[38;5;28;01mreturn\u001b[39;00m \u001b[38;5;28;43mself\u001b[39;49m\u001b[38;5;241;43m.\u001b[39;49m\u001b[43mwindow\u001b[49m\u001b[38;5;241;43m.\u001b[39;49m\u001b[43msend\u001b[49m\u001b[43m(\u001b[49m\u001b[43mSetTransform\u001b[49m\u001b[43m(\u001b[49m\u001b[43mmatrix\u001b[49m\u001b[43m,\u001b[49m\u001b[43m \u001b[49m\u001b[38;5;28;43mself\u001b[39;49m\u001b[38;5;241;43m.\u001b[39;49m\u001b[43mpath\u001b[49m\u001b[43m)\u001b[49m\u001b[43m)\u001b[49m\n",
      "File \u001b[0;32m~/.local/lib/python3.8/site-packages/meshcat/visualizer.py:63\u001b[0m, in \u001b[0;36mViewerWindow.send\u001b[0;34m(self, command)\u001b[0m\n\u001b[1;32m     57\u001b[0m cmd_data \u001b[38;5;241m=\u001b[39m command\u001b[38;5;241m.\u001b[39mlower()\n\u001b[1;32m     58\u001b[0m \u001b[38;5;28mself\u001b[39m\u001b[38;5;241m.\u001b[39mzmq_socket\u001b[38;5;241m.\u001b[39msend_multipart([\n\u001b[1;32m     59\u001b[0m     cmd_data[\u001b[38;5;124m\"\u001b[39m\u001b[38;5;124mtype\u001b[39m\u001b[38;5;124m\"\u001b[39m]\u001b[38;5;241m.\u001b[39mencode(\u001b[38;5;124m\"\u001b[39m\u001b[38;5;124mutf-8\u001b[39m\u001b[38;5;124m\"\u001b[39m),\n\u001b[1;32m     60\u001b[0m     cmd_data[\u001b[38;5;124m\"\u001b[39m\u001b[38;5;124mpath\u001b[39m\u001b[38;5;124m\"\u001b[39m]\u001b[38;5;241m.\u001b[39mencode(\u001b[38;5;124m\"\u001b[39m\u001b[38;5;124mutf-8\u001b[39m\u001b[38;5;124m\"\u001b[39m),\n\u001b[1;32m     61\u001b[0m     umsgpack\u001b[38;5;241m.\u001b[39mpackb(cmd_data)\n\u001b[1;32m     62\u001b[0m ])\n\u001b[0;32m---> 63\u001b[0m \u001b[38;5;28;43mself\u001b[39;49m\u001b[38;5;241;43m.\u001b[39;49m\u001b[43mzmq_socket\u001b[49m\u001b[38;5;241;43m.\u001b[39;49m\u001b[43mrecv\u001b[49m\u001b[43m(\u001b[49m\u001b[43m)\u001b[49m\n",
      "File \u001b[0;32mzmq/backend/cython/socket.pyx:781\u001b[0m, in \u001b[0;36mzmq.backend.cython.socket.Socket.recv\u001b[0;34m()\u001b[0m\n",
      "File \u001b[0;32mzmq/backend/cython/socket.pyx:817\u001b[0m, in \u001b[0;36mzmq.backend.cython.socket.Socket.recv\u001b[0;34m()\u001b[0m\n",
      "File \u001b[0;32mzmq/backend/cython/socket.pyx:186\u001b[0m, in \u001b[0;36mzmq.backend.cython.socket._recv_copy\u001b[0;34m()\u001b[0m\n",
      "File \u001b[0;32m/usr/local/lib/python3.8/dist-packages/zmq/backend/cython/checkrc.pxd:13\u001b[0m, in \u001b[0;36mzmq.backend.cython.checkrc._check_rc\u001b[0;34m()\u001b[0m\n",
      "\u001b[0;31mKeyboardInterrupt\u001b[0m: "
     ]
    }
   ],
   "source": [
    "for k in range(1):\n",
    "    r = 0.3*np.random.rand(1) + 0.5\n",
    "    rint = k % 2\n",
    "    print(rint)\n",
    "#     theta = rint*(0.1*np.pi*(np.random.rand(1)) + 0.65*np.pi) + (1-rint)*(0.1*np.pi*(np.random.rand(1)) + 0.25*np.pi)\n",
    "#     goal = torch.squeeze(torch.tensor([r*np.sin(theta), r*np.cos(theta), 0.15*np.random.rand(1)+0.15]))\n",
    "    goal = torch.tensor([0.6, 0, 0.5])\n",
    "\n",
    "    viz.viewer[\"box\"].set_object(g.Sphere(0.05), \n",
    "                             g.MeshLambertMaterial(\n",
    "                                 color=0xff22dd,\n",
    "                                 reflectivity=0.8))\n",
    "    viz.viewer[\"box\"].set_transform(tf.translation_matrix(goal.detach().numpy()))\n",
    "\n",
    "    for j in range(25):\n",
    "\n",
    "        ioc = IOC(n_col, nq, u_max, 0.05, eps = 1.0, isvec=True)\n",
    "        optimizer = torch.optim.Adam(ioc.parameters(), lr=lr)\n",
    "\n",
    "\n",
    "        i = 0\n",
    "        loss = 1000.\n",
    "        old_loss = 10000.\n",
    "\n",
    "        while loss > 0.03 and i < eps and abs(old_loss - loss) > 5e-5:\n",
    "            x_pred = ioc(x_in) \n",
    "\n",
    "            old_loss = loss\n",
    "\n",
    "    #         loss = quadratic_loss(x_pred, goal, nq, n_col)\n",
    "            loss = quadratic_loss(x_pred, goal, nq, n_col, j)\n",
    "            print(\"Index :\" + str(i) + \" loss is : \" + str(loss.detach().numpy()), end = '\\r', flush = True)\n",
    "\n",
    "            optimizer.zero_grad()\n",
    "            loss.backward()\n",
    "            optimizer.step()\n",
    "            i += 1\n",
    "\n",
    "        x_pred = ioc(x_in).detach().numpy()\n",
    "        \n",
    "        for i in range(n_col+1):\n",
    "            q = x_pred[3*nq*i:3*nq*i + nq]\n",
    "            dq = x_pred[3*nq*i + nq:3*nq*i + 2*nq]\n",
    "            if i < n_col:\n",
    "                ddq = x_pred[3*nq*i + 2*nq:3*nq*i + 3*nq]\n",
    "            pin.forwardKinematics(model, data, q, dq, np.zeros(nv))\n",
    "            pin.updateFramePlacements(model, data)\n",
    "            viz.display(q)\n",
    "            time.sleep(0.1)\n",
    "\n",
    "        x_in = torch.tensor(x_pred[-2*nq:])"
   ]
  },
  {
   "cell_type": "code",
   "execution_count": null,
   "id": "b7882d0f",
   "metadata": {},
   "outputs": [],
   "source": [
    "data.oMf[f_id]"
   ]
  },
  {
   "cell_type": "code",
   "execution_count": 20,
   "id": "afdadf3b",
   "metadata": {},
   "outputs": [],
   "source": [
    "O_des = np.array(pin.utils.rpyToMatrix(np.pi/4.0,0, 0))  \n",
    "M_des = np.eye(4,4)\n",
    "M_des[0:3,0:3] = O_des\n",
    "M_des[0:3,3] = goal\n",
    "# np.round(M_des,3)"
   ]
  },
  {
   "cell_type": "code",
   "execution_count": 21,
   "id": "2045d4c7",
   "metadata": {},
   "outputs": [],
   "source": []
  },
  {
   "cell_type": "code",
   "execution_count": 27,
   "id": "731e5438",
   "metadata": {},
   "outputs": [],
   "source": [
    "from scipy.spatial.transform import Rotation as R\n",
    "ori_mat = R.from_matrix(pin.utils.rpyToMatrix(-np.pi/4, np.pi/2, 0)).as_quat()"
   ]
  },
  {
   "cell_type": "code",
   "execution_count": 26,
   "id": "b6b1b9be",
   "metadata": {},
   "outputs": [
    {
     "data": {
      "text/plain": [
       "array([-0.27059805,  0.65328148,  0.27059805,  0.65328148])"
      ]
     },
     "execution_count": 26,
     "metadata": {},
     "output_type": "execute_result"
    }
   ],
   "source": [
    "ori_mat.as_quat()"
   ]
  }
 ],
 "metadata": {
  "kernelspec": {
   "display_name": "Python 3 (ipykernel)",
   "language": "python",
   "name": "python3"
  },
  "language_info": {
   "codemirror_mode": {
    "name": "ipython",
    "version": 3
   },
   "file_extension": ".py",
   "mimetype": "text/x-python",
   "name": "python",
   "nbconvert_exporter": "python",
   "pygments_lexer": "ipython3",
   "version": "3.8.10"
  }
 },
 "nbformat": 4,
 "nbformat_minor": 5
}
