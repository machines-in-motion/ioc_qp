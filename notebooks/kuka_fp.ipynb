{
 "cells": [
  {
   "cell_type": "code",
   "execution_count": 1,
   "id": "8b297ca8",
   "metadata": {},
   "outputs": [],
   "source": [
    "%matplotlib inline\n",
    "%load_ext autoreload\n",
    "%autoreload 2"
   ]
  },
  {
   "cell_type": "code",
   "execution_count": 2,
   "id": "cedd6fed",
   "metadata": {},
   "outputs": [],
   "source": [
    "import os\n",
    "import time\n",
    "import pathlib\n",
    "\n",
    "python_path = pathlib.Path('.').absolute().parent/'python'\n",
    "os.sys.path.insert(1, str(python_path))"
   ]
  },
  {
   "cell_type": "code",
   "execution_count": 3,
   "id": "22279fb8",
   "metadata": {},
   "outputs": [
    {
     "name": "stderr",
     "output_type": "stream",
     "text": [
      "<frozen importlib._bootstrap>:219: RuntimeWarning: to-Python converter for boost::shared_ptr<hpp::fcl::CollisionGeometry> already registered; second conversion method ignored.\n"
     ]
    }
   ],
   "source": [
    "## This is demo for kuka reaching a with mpc and diff_qp\n",
    "## Author : Avadesh Meduri\n",
    "## Date : 25/02/2022\n",
    "\n",
    "import time\n",
    "import numpy as np\n",
    "import pinocchio as pin\n",
    "from robot_properties_kuka.config import IiwaConfig\n",
    "from matplotlib import pyplot as plt\n",
    "\n",
    "import meshcat\n",
    "import meshcat.transformations as tf\n",
    "import meshcat.geometry as g\n",
    "\n",
    "from vocam.diff_pin_costs import DiffFrameTranslationCost, DiffFrameVelocityCost\n",
    "from vocam.inverse_qp import IOC\n",
    "\n",
    "import torch\n",
    "from torch.autograd import Function\n",
    "from torch.nn import functional as F"
   ]
  },
  {
   "cell_type": "code",
   "execution_count": 75,
   "id": "b1e8d457",
   "metadata": {},
   "outputs": [],
   "source": [
    "robot = IiwaConfig.buildRobotWrapper()\n",
    "model, data = robot.model, robot.data\n",
    "f_id = model.getFrameId(\"EE\")\n",
    "j_id = [f_id]\n",
    "o_id = model.getFrameId(\"A7\")\n",
    "for i in range(3, model.nq+1):\n",
    "    j_id.append(model.getFrameId(\"A\" + str(i)))"
   ]
  },
  {
   "cell_type": "code",
   "execution_count": 5,
   "id": "12669970",
   "metadata": {},
   "outputs": [
    {
     "data": {
      "text/plain": [
       "'/home/ameduri/.local/lib/python3.8/site-packages/robot_properties_kuka/robot_properties_kuka/iiwa.urdf'"
      ]
     },
     "execution_count": 5,
     "metadata": {},
     "output_type": "execute_result"
    }
   ],
   "source": [
    "IiwaConfig.urdf_path"
   ]
  },
  {
   "cell_type": "code",
   "execution_count": 6,
   "id": "3a8abd88",
   "metadata": {},
   "outputs": [
    {
     "name": "stdout",
     "output_type": "stream",
     "text": [
      "You can open the visualizer by visiting the following URL:\n",
      "http://127.0.0.1:7001/static/\n"
     ]
    }
   ],
   "source": [
    "viz = pin.visualize.MeshcatVisualizer(robot.model, robot.collision_model, robot.visual_model)\n",
    "viz.initViewer(open=True)\n",
    "viz.loadViewerModel()"
   ]
  },
  {
   "cell_type": "code",
   "execution_count": 48,
   "id": "5947b8ad",
   "metadata": {},
   "outputs": [],
   "source": [
    "class DiffFramePlacementCost(Function):\n",
    "    \"\"\"\n",
    "    This cost provides gradients wrt joint position and velocity for the final end effector/frame placement\n",
    "    \"\"\"\n",
    "    @staticmethod\n",
    "    def forward(ctx, state, model, data, f_id, M_des):\n",
    "        \"\"\"\n",
    "        Input:\n",
    "            state : vector (q, dq)\n",
    "            model : pinocchio robot model\n",
    "            data : pinocchio robot data\n",
    "            f_id : frame id for which derivatives are desired\n",
    "        \"\"\"\n",
    "        state = state.double().detach().numpy()\n",
    "        nq, nv = model.nq, model.nv\n",
    "        pin.forwardKinematics(model, data, state[0:nq], state[nq:nq + nv], np.zeros(nv))\n",
    "        pin.updateFramePlacements(model, data)\n",
    "        \n",
    "        se3_error = pin.SE3(M_des).inverse() * data.oMf[f_id]\n",
    "        error = np.array(pin.log6(se3_error))\n",
    "        \n",
    "        J_error = pin.Jlog6(se3_error)       \n",
    "        J = pin.computeFrameJacobian(model, data, state[0:nq], f_id, pin.ReferenceFrame.LOCAL)\n",
    "        \n",
    "        ctx.J = torch.tensor(J_error @ J)\n",
    "        \n",
    "        return torch.tensor(error)\n",
    "\n",
    "    @staticmethod\n",
    "    def backward(ctx, grad):\n",
    "        \n",
    "        jac = ctx.J\n",
    "        fk_q = jac.t()@grad # derivative wrt joint positions\n",
    "        fk_dq = torch.zeros(len(fk_q)) # derivative wrt joint velocities\n",
    "        \n",
    "        return torch.hstack((fk_q, fk_dq)), None, None, None, None\n",
    "        "
   ]
  },
  {
   "cell_type": "code",
   "execution_count": 54,
   "id": "60acff03",
   "metadata": {},
   "outputs": [],
   "source": [
    "class DiffFrameOrientationCost(Function):\n",
    "    \"\"\"\n",
    "    This cost provides gradients wrt joint position and velocity for the final end effector/frame placement\n",
    "    \"\"\"\n",
    "    @staticmethod\n",
    "    def forward(ctx, state, model, data, f_id, M_des):\n",
    "        \"\"\"\n",
    "        Input:\n",
    "            state : vector (q, dq)\n",
    "            model : pinocchio robot model\n",
    "            data : pinocchio robot data\n",
    "            f_id : frame id for which derivatives are desired\n",
    "        \"\"\"\n",
    "        state = state.double().detach().numpy()\n",
    "        nq, nv = model.nq, model.nv\n",
    "        pin.forwardKinematics(model, data, state[0:nq], state[nq:nq + nv], np.zeros(nv))\n",
    "        pin.updateFramePlacements(model, data)\n",
    "        \n",
    "        se3_error = np.linalg.inv(M_des) * data.oMf[f_id].rotation\n",
    "        error = np.array(pin.log3(se3_error))\n",
    "        \n",
    "        J_error = pin.Jlog3(se3_error)       \n",
    "        J = pin.computeFrameJacobian(model, data, state[0:nq], f_id, pin.ReferenceFrame.LOCAL)\n",
    "        \n",
    "        ctx.J = torch.tensor(J_error @ J[3:6])\n",
    "        \n",
    "        return torch.tensor(error)\n",
    "\n",
    "    @staticmethod\n",
    "    def backward(ctx, grad):\n",
    "        \n",
    "        jac = ctx.J\n",
    "        fk_q = jac.t()@grad # derivative wrt joint positions\n",
    "        fk_dq = torch.zeros(len(fk_q)) # derivative wrt joint velocities\n",
    "        \n",
    "        return torch.hstack((fk_q, fk_dq)), None, None, None, None"
   ]
  },
  {
   "cell_type": "code",
   "execution_count": 71,
   "id": "72587171",
   "metadata": {},
   "outputs": [],
   "source": [
    "dtc = DiffFrameTranslationCost.apply\n",
    "dvc = DiffFrameVelocityCost.apply\n",
    "dfc = DiffFramePlacementCost.apply\n",
    "doc = DiffFrameOrientationCost.apply\n",
    "\n",
    "def quadratic_loss(q_pred, goal, nq, n_col, j):\n",
    "    \n",
    "    M_des = np.array(pin.utils.rpyToMatrix(0,-1.5,0))\n",
    "    wt = 1e1*np.eye(3)\n",
    "    \n",
    "    loss = doc(q_pred[-2*nq:], model, data, o_id, M_des)\n",
    "    loss = loss.t()@torch.tensor(wt)@loss\n",
    "    \n",
    "    loss += 6.0e1*torch.linalg.norm(dtc(q_pred[-2*nq:], model, data, f_id) - goal)\n",
    "    \n",
    "    loss += 2.5e0*torch.linalg.norm(dvc(q_pred[-2*nq:], torch.zeros(nq), model, data, f_id)) # asking for zero velocity\n",
    "    loss += 1e-2*torch.linalg.norm(q_pred[-2*nq:-nq]) # joint regularization\n",
    "    \n",
    "    for i in range(n_col):    \n",
    "#         loss += 2e0 * torch.linalg.norm(dtc(q_pred[(3*i)*nq: (3*i+2)*nq], model, data, f_id) - goal)\n",
    "#         loss += 5e-1*torch.linalg.norm(dvc(q_pred[(3*i)*nq: (3*i+2)*nq], q_pred[(3*i+2)*nq:(3*i+3)*nq], model, data, f_id)) # asking for zero velocity\n",
    "#         loss += 1e-2*torch.linalg.norm(q_pred[(3*i+2)*nq: (3*i+3)*nq]) # control regularization\n",
    "#         loss += 2e-1*torch.linalg.norm(q_pred[(3*i+1)*nq: (3*i+2)*nq]) # velocity regularization\n",
    "        loss += 3e-3*torch.linalg.norm(q_pred[(3*i)*nq: (3*i+1)*nq]) # joint regularization\n",
    "#         loss += 2e-3*torch.linalg.norm(q_pred[(3*i)*nq+3: (3*i+1)*nq])\n",
    "#         loss += 4e-3*torch.linalg.norm(q_pred[(3*i)*nq+5])\n",
    "        \n",
    "#         if i < n_col - 1:\n",
    "#             loss += 5e-2*torch.linalg.norm(torch.subtract(q_pred[(3*i+2)*nq: (3*i+3)*nq], \\\n",
    "#                                                           q_pred[(3*i+5)*nq: (3*i+6)*nq]))\n",
    "\n",
    "    return loss"
   ]
  },
  {
   "cell_type": "code",
   "execution_count": 72,
   "id": "963150f1",
   "metadata": {},
   "outputs": [],
   "source": [
    "obs_rad = [0.5, 0.35, 0.4]"
   ]
  },
  {
   "cell_type": "code",
   "execution_count": 73,
   "id": "5f7b891c",
   "metadata": {},
   "outputs": [],
   "source": [
    "nq = model.nq\n",
    "nv = model.nv\n",
    "\n",
    "n_col = 5\n",
    "u_max = [3.5,4.5,2.5, 2.5, 1.5, 1.5, 1.0]\n",
    "\n",
    "lr = 1e-1\n",
    "eps = 80\n",
    "\n",
    "# q_des = np.hstack(((np.pi/4)*(np.random.randint(0, 2, size = 5)), np.zeros(2)))\n",
    "\n",
    "q_des_arr = np.array([[2.1789238e-02,  3.3214998e-01, -1.4518893e-04, -8.7141126e-01,\n",
    "                          6.0329604e-01, -1.3965217e-03,  1.4794523e-04],\n",
    "                      [1.3737, 0.9711, 1.6139, 1.2188, 1.5669, 0.1236, 0.2565]])\n",
    "goal_arr = torch.tensor([[0.4, -0.3, 0.5], [0.4, 0.3, 0.5]]) #torch.tensor([[0.6, 0.4, 0.5]]) #[0.6, 0.4, 1.0]\n",
    "\n",
    "# q_init = np.hstack(((np.pi/8)*np.random.choice(list(range(-2, -1)) + list(range(1, 3)), size=(4)), np.zeros(3)))\n",
    "\n",
    "x_init = np.zeros(2*nq)\n",
    "x_init[0:nq] = q_des_arr[0] + 0.3*2*(np.random.rand(nq) - 0.5)\n",
    "x_init[0] -= 2*0.5*(np.random.rand(1) - 0.5)\n",
    "x_init[2] -= 2*0.3*(np.random.rand(1) - 0.5)\n",
    "x_init[nq:] = 0.7*2*(np.random.rand(nv) - 0.5)\n",
    "\n",
    "x_in = x_init"
   ]
  },
  {
   "cell_type": "code",
   "execution_count": 74,
   "id": "fc52ffe1",
   "metadata": {
    "scrolled": false
   },
   "outputs": [
    {
     "name": "stdout",
     "output_type": "stream",
     "text": [
      "0\n",
      "Index :47 loss is : 0.23976944297057465\r"
     ]
    },
    {
     "ename": "KeyboardInterrupt",
     "evalue": "",
     "output_type": "error",
     "traceback": [
      "\u001b[0;31m---------------------------------------------------------------------------\u001b[0m",
      "\u001b[0;31mKeyboardInterrupt\u001b[0m                         Traceback (most recent call last)",
      "\u001b[0;32m/tmp/ipykernel_187914/2569403971.py\u001b[0m in \u001b[0;36m<cell line: 1>\u001b[0;34m()\u001b[0m\n\u001b[1;32m     33\u001b[0m \u001b[0;34m\u001b[0m\u001b[0m\n\u001b[1;32m     34\u001b[0m             \u001b[0moptimizer\u001b[0m\u001b[0;34m.\u001b[0m\u001b[0mzero_grad\u001b[0m\u001b[0;34m(\u001b[0m\u001b[0;34m)\u001b[0m\u001b[0;34m\u001b[0m\u001b[0;34m\u001b[0m\u001b[0m\n\u001b[0;32m---> 35\u001b[0;31m             \u001b[0mloss\u001b[0m\u001b[0;34m.\u001b[0m\u001b[0mbackward\u001b[0m\u001b[0;34m(\u001b[0m\u001b[0;34m)\u001b[0m\u001b[0;34m\u001b[0m\u001b[0;34m\u001b[0m\u001b[0m\n\u001b[0m\u001b[1;32m     36\u001b[0m             \u001b[0moptimizer\u001b[0m\u001b[0;34m.\u001b[0m\u001b[0mstep\u001b[0m\u001b[0;34m(\u001b[0m\u001b[0;34m)\u001b[0m\u001b[0;34m\u001b[0m\u001b[0;34m\u001b[0m\u001b[0m\n\u001b[1;32m     37\u001b[0m             \u001b[0mi\u001b[0m \u001b[0;34m+=\u001b[0m \u001b[0;36m1\u001b[0m\u001b[0;34m\u001b[0m\u001b[0;34m\u001b[0m\u001b[0m\n",
      "\u001b[0;32m~/.local/lib/python3.8/site-packages/torch/_tensor.py\u001b[0m in \u001b[0;36mbackward\u001b[0;34m(self, gradient, retain_graph, create_graph, inputs)\u001b[0m\n\u001b[1;32m    253\u001b[0m                 \u001b[0mcreate_graph\u001b[0m\u001b[0;34m=\u001b[0m\u001b[0mcreate_graph\u001b[0m\u001b[0;34m,\u001b[0m\u001b[0;34m\u001b[0m\u001b[0;34m\u001b[0m\u001b[0m\n\u001b[1;32m    254\u001b[0m                 inputs=inputs)\n\u001b[0;32m--> 255\u001b[0;31m         \u001b[0mtorch\u001b[0m\u001b[0;34m.\u001b[0m\u001b[0mautograd\u001b[0m\u001b[0;34m.\u001b[0m\u001b[0mbackward\u001b[0m\u001b[0;34m(\u001b[0m\u001b[0mself\u001b[0m\u001b[0;34m,\u001b[0m \u001b[0mgradient\u001b[0m\u001b[0;34m,\u001b[0m \u001b[0mretain_graph\u001b[0m\u001b[0;34m,\u001b[0m \u001b[0mcreate_graph\u001b[0m\u001b[0;34m,\u001b[0m \u001b[0minputs\u001b[0m\u001b[0;34m=\u001b[0m\u001b[0minputs\u001b[0m\u001b[0;34m)\u001b[0m\u001b[0;34m\u001b[0m\u001b[0;34m\u001b[0m\u001b[0m\n\u001b[0m\u001b[1;32m    256\u001b[0m \u001b[0;34m\u001b[0m\u001b[0m\n\u001b[1;32m    257\u001b[0m     \u001b[0;32mdef\u001b[0m \u001b[0mregister_hook\u001b[0m\u001b[0;34m(\u001b[0m\u001b[0mself\u001b[0m\u001b[0;34m,\u001b[0m \u001b[0mhook\u001b[0m\u001b[0;34m)\u001b[0m\u001b[0;34m:\u001b[0m\u001b[0;34m\u001b[0m\u001b[0;34m\u001b[0m\u001b[0m\n",
      "\u001b[0;32m~/.local/lib/python3.8/site-packages/torch/autograd/__init__.py\u001b[0m in \u001b[0;36mbackward\u001b[0;34m(tensors, grad_tensors, retain_graph, create_graph, grad_variables, inputs)\u001b[0m\n\u001b[1;32m    145\u001b[0m         \u001b[0mretain_graph\u001b[0m \u001b[0;34m=\u001b[0m \u001b[0mcreate_graph\u001b[0m\u001b[0;34m\u001b[0m\u001b[0;34m\u001b[0m\u001b[0m\n\u001b[1;32m    146\u001b[0m \u001b[0;34m\u001b[0m\u001b[0m\n\u001b[0;32m--> 147\u001b[0;31m     Variable._execution_engine.run_backward(\n\u001b[0m\u001b[1;32m    148\u001b[0m         \u001b[0mtensors\u001b[0m\u001b[0;34m,\u001b[0m \u001b[0mgrad_tensors_\u001b[0m\u001b[0;34m,\u001b[0m \u001b[0mretain_graph\u001b[0m\u001b[0;34m,\u001b[0m \u001b[0mcreate_graph\u001b[0m\u001b[0;34m,\u001b[0m \u001b[0minputs\u001b[0m\u001b[0;34m,\u001b[0m\u001b[0;34m\u001b[0m\u001b[0;34m\u001b[0m\u001b[0m\n\u001b[1;32m    149\u001b[0m         allow_unreachable=True, accumulate_grad=True)  # allow_unreachable flag\n",
      "\u001b[0;31mKeyboardInterrupt\u001b[0m: "
     ]
    }
   ],
   "source": [
    "for k in range(1):\n",
    "    r = 0.3*np.random.rand(1) + 0.5\n",
    "    rint = k % 2\n",
    "    print(rint)\n",
    "#     theta = rint*(0.1*np.pi*(np.random.rand(1)) + 0.65*np.pi) + (1-rint)*(0.1*np.pi*(np.random.rand(1)) + 0.25*np.pi)\n",
    "#     goal = torch.squeeze(torch.tensor([r*np.sin(theta), r*np.cos(theta), 0.15*np.random.rand(1)+0.15]))\n",
    "    goal = torch.tensor([0.8, 0, 0.5])\n",
    "\n",
    "    viz.viewer[\"box\"].set_object(g.Sphere(0.05), \n",
    "                             g.MeshLambertMaterial(\n",
    "                                 color=0xff22dd,\n",
    "                                 reflectivity=0.8))\n",
    "    viz.viewer[\"box\"].set_transform(tf.translation_matrix(goal.detach().numpy()))\n",
    "\n",
    "    for j in range(25):\n",
    "\n",
    "        ioc = IOC(n_col, nq, u_max, 0.05, eps = 1.0, isvec=True)\n",
    "        optimizer = torch.optim.Adam(ioc.parameters(), lr=lr)\n",
    "\n",
    "\n",
    "        i = 0\n",
    "        loss = 1000.\n",
    "        old_loss = 10000.\n",
    "\n",
    "        while loss > 0.03 and i < eps and abs(old_loss - loss) > 5e-5:\n",
    "            x_pred = ioc(x_in) \n",
    "\n",
    "            old_loss = loss\n",
    "\n",
    "    #         loss = quadratic_loss(x_pred, goal, nq, n_col)\n",
    "            loss = quadratic_loss(x_pred, goal, nq, n_col, j)\n",
    "            print(\"Index :\" + str(i) + \" loss is : \" + str(loss.detach().numpy()), end = '\\r', flush = True)\n",
    "\n",
    "            optimizer.zero_grad()\n",
    "            loss.backward()\n",
    "            optimizer.step()\n",
    "            i += 1\n",
    "\n",
    "        x_pred = ioc(x_in).detach().numpy()\n",
    "        \n",
    "        for i in range(n_col+1):\n",
    "            q = x_pred[3*nq*i:3*nq*i + nq]\n",
    "            dq = x_pred[3*nq*i + nq:3*nq*i + 2*nq]\n",
    "            if i < n_col:\n",
    "                ddq = x_pred[3*nq*i + 2*nq:3*nq*i + 3*nq]\n",
    "            pin.forwardKinematics(model, data, q, dq, np.zeros(nv))\n",
    "            pin.updateFramePlacements(model, data)\n",
    "            viz.display(q)\n",
    "            time.sleep(0.1)\n",
    "\n",
    "        x_in = torch.tensor(x_pred[-2*nq:])"
   ]
  },
  {
   "cell_type": "code",
   "execution_count": null,
   "id": "6be66cea",
   "metadata": {},
   "outputs": [],
   "source": []
  },
  {
   "cell_type": "code",
   "execution_count": null,
   "id": "ce4a08b7",
   "metadata": {},
   "outputs": [],
   "source": []
  }
 ],
 "metadata": {
  "kernelspec": {
   "display_name": "Python 3 (ipykernel)",
   "language": "python",
   "name": "python3"
  },
  "language_info": {
   "codemirror_mode": {
    "name": "ipython",
    "version": 3
   },
   "file_extension": ".py",
   "mimetype": "text/x-python",
   "name": "python",
   "nbconvert_exporter": "python",
   "pygments_lexer": "ipython3",
   "version": "3.8.10"
  }
 },
 "nbformat": 4,
 "nbformat_minor": 5
}
