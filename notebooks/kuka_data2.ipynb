{
 "cells": [
  {
   "cell_type": "code",
   "execution_count": 1,
   "metadata": {},
   "outputs": [],
   "source": [
    "%matplotlib inline\n",
    "%load_ext autoreload\n",
    "%autoreload 2"
   ]
  },
  {
   "cell_type": "code",
   "execution_count": 2,
   "metadata": {},
   "outputs": [],
   "source": [
    "import os\n",
    "import time\n",
    "import pathlib\n",
    "python_path = pathlib.Path('.').absolute().parent/'python'\n",
    "os.sys.path.insert(1, str(python_path))"
   ]
  },
  {
   "cell_type": "code",
   "execution_count": 3,
   "metadata": {},
   "outputs": [],
   "source": [
    "import pinocchio as pin\n",
    "from robot_properties_kuka.config import IiwaConfig\n",
    "\n",
    "import meshcat\n",
    "import meshcat.transformations as tf\n",
    "import meshcat.geometry as g\n",
    "\n",
    "import numpy as np\n",
    "import torch\n",
    "import torch.nn as nn\n",
    "from torch.utils.data import DataLoader\n",
    "\n",
    "from tqdm import trange\n",
    "import wandb"
   ]
  },
  {
   "cell_type": "code",
   "execution_count": 4,
   "metadata": {},
   "outputs": [],
   "source": [
    "from vocam.diff_pin_costs import DiffFrameTranslationCost, DiffFrameVelocityCost\n",
    "from vocam.qpnet import DataUtils, QPNet\n",
    "import vocam.qpnet"
   ]
  },
  {
   "cell_type": "code",
   "execution_count": 5,
   "metadata": {},
   "outputs": [
    {
     "name": "stdout",
     "output_type": "stream",
     "text": [
      "You can open the visualizer by visiting the following URL:\n",
      "http://127.0.0.1:7000/static/\n"
     ]
    }
   ],
   "source": [
    "robot = IiwaConfig.buildRobotWrapper()\n",
    "model, data = robot.model, robot.data\n",
    "f_id = model.getFrameId(\"EE\")\n",
    "\n",
    "viz = pin.visualize.MeshcatVisualizer(robot.model, robot.collision_model, robot.visual_model)\n",
    "viz.initViewer(open=False)\n",
    "viz.loadViewerModel()"
   ]
  },
  {
   "cell_type": "code",
   "execution_count": 6,
   "metadata": {},
   "outputs": [
    {
     "name": "stderr",
     "output_type": "stream",
     "text": [
      "\u001b[34m\u001b[1mwandb\u001b[0m: Currently logged in as: \u001b[33mhjzhu\u001b[0m. Use \u001b[1m`wandb login --relogin`\u001b[0m to force relogin\n"
     ]
    },
    {
     "data": {
      "text/html": [
       "Tracking run with wandb version 0.12.16"
      ],
      "text/plain": [
       "<IPython.core.display.HTML object>"
      ]
     },
     "metadata": {},
     "output_type": "display_data"
    },
    {
     "data": {
      "text/html": [
       "Run data is saved locally in <code>/home/hz/Research/ioc_qp/notebooks/wandb/run-20220516_171136-2i6nx2bj</code>"
      ],
      "text/plain": [
       "<IPython.core.display.HTML object>"
      ]
     },
     "metadata": {},
     "output_type": "display_data"
    },
    {
     "data": {
      "text/html": [
       "Syncing run <strong><a href=\"https://wandb.ai/hjzhu/vocam/runs/2i6nx2bj\" target=\"_blank\">pious-sky-88</a></strong> to <a href=\"https://wandb.ai/hjzhu/vocam\" target=\"_blank\">Weights & Biases</a> (<a href=\"https://wandb.me/run\" target=\"_blank\">docs</a>)<br/>"
      ],
      "text/plain": [
       "<IPython.core.display.HTML object>"
      ]
     },
     "metadata": {},
     "output_type": "display_data"
    }
   ],
   "source": [
    "run = wandb.init(project=\"vocam\", group=\"kuka_qpnet_data\", entity=\"hjzhu\")"
   ]
  },
  {
   "cell_type": "code",
   "execution_count": 7,
   "metadata": {},
   "outputs": [],
   "source": [
    "# robot parameters\n",
    "wandb.config.nq = model.nq\n",
    "wandb.config.nv = model.nv\n",
    "wandb.config.n_col = 5\n",
    "wandb.config.n_vars = 3 * model.nq * wandb.config.n_col + 2 * model.nq\n",
    "wandb.config.u_max = [2.5, 2.5, 2.5, 1.5, 1.5, 1.5, 1.0]\n",
    "wandb.config.dt = 0.05\n",
    "wandb.config.q_init = np.array([2.1789238e-02,  3.3214998e-01, -1.4518893e-04, -8.7141126e-01,\n",
    "                                6.0329604e-01, -1.3965217e-03,  1.4794523e-04])\n",
    "wandb.config.x_init = np.concatenate([wandb.config.q_init, pin.utils.zero(model.nv)])\n",
    "wandb.config.q_noise = 0.6\n",
    "wandb.config.dq_noise = 1.4\n",
    "\n",
    "# ioc optimization parameters\n",
    "wandb.config.isvec = True\n",
    "wandb.config.lr_qp = 1e-1\n",
    "wandb.config.max_it = 100\n",
    "wandb.config.task_horizon = 20\n",
    "wandb.config.loss_threshold = 0.05\n",
    "wandb.config.convergence_threshold = 5e-4\n",
    "wandb.config.distance_threshold = 0.05\n",
    "\n",
    "# goal sampling parameters\n",
    "wandb.config.r = [0.5, 0.4]\n",
    "wandb.config.theta = [0.15*np.pi, 0.75*np.pi]\n",
    "wandb.config.z = [0.15, 0.45]\n",
    "wandb.config.n_restart = 3"
   ]
  },
  {
   "cell_type": "code",
   "execution_count": null,
   "metadata": {},
   "outputs": [],
   "source": [
    "def task_loss(robot, q_pred, x_des, nq, n_col):\n",
    "    dtc = DiffFrameTranslationCost.apply\n",
    "    dvc = DiffFrameVelocityCost.apply\n",
    "    model, data = robot.model, robot.data\n",
    "    f_id = model.getFrameId(\"EE\")\n",
    "    \n",
    "    loss = 6.0e1*torch.linalg.norm(dtc(q_pred[-2*nq:], model, data, f_id) - x_des)\n",
    "    loss += 2.5e0*torch.linalg.norm(dvc(q_pred[-2*nq:], torch.zeros(nq), model, data, f_id)) # asking for zero velocity\n",
    "    loss += 1e-2*torch.linalg.norm(q_pred[-2*nq:-nq]) # joint regularization\n",
    "    \n",
    "    for i in range(n_col):    \n",
    "        loss += 2e0*torch.linalg.norm(dtc(q_pred[(3*i)*nq: (3*i+2)*nq], model, data, f_id) - x_des)\n",
    "        loss += 5e-1*torch.linalg.norm(dvc(q_pred[(3*i)*nq: (3*i+2)*nq], q_pred[(3*i+2)*nq:(3*i+3)*nq], model, data, f_id)) # asking for zero velocity\n",
    "        loss += 1e-2*torch.linalg.norm(q_pred[(3*i+2)*nq: (3*i+3)*nq]) # control regularization\n",
    "        loss += 2e-1*torch.linalg.norm(q_pred[(3*i+1)*nq: (3*i+2)*nq]) # velocity regularization\n",
    "        loss += 3e-3*torch.linalg.norm(q_pred[(3*i)*nq: (3*i+1)*nq]) # joint regularization\n",
    "        loss += 2e-3*torch.linalg.norm(q_pred[(3*i)*nq+3: (3*i+1)*nq])\n",
    "        loss += 4e-3*torch.linalg.norm(q_pred[(3*i)*nq+5])\n",
    "        \n",
    "        if i < n_col - 1:\n",
    "            loss += 5e-2*torch.linalg.norm(torch.subtract(q_pred[(3*i+2)*nq: (3*i+3)*nq], \\\n",
    "                                                          q_pred[(3*i+5)*nq: (3*i+6)*nq]))\n",
    "    return loss"
   ]
  },
  {
   "cell_type": "code",
   "execution_count": null,
   "metadata": {},
   "outputs": [],
   "source": [
    "du = DataUtils(robot, task_loss, wandb.config, viz)\n",
    "n_tasks = 500\n",
    "du.generate(n_tasks)"
   ]
  },
  {
   "cell_type": "code",
   "execution_count": 8,
   "metadata": {},
   "outputs": [],
   "source": [
    "data_dir = '../data/'"
   ]
  },
  {
   "cell_type": "code",
   "execution_count": null,
   "metadata": {},
   "outputs": [],
   "source": [
    "n_run = run.name.split('-')[-1]\n",
    "file_path = data_dir + 'data_' + str(n_tasks) + '_' + n_run + '.pt'\n",
    "du.save(file_path)"
   ]
  },
  {
   "cell_type": "code",
   "execution_count": 9,
   "metadata": {},
   "outputs": [
    {
     "name": "stderr",
     "output_type": "stream",
     "text": [
      "\u001b[34m\u001b[1mwandb\u001b[0m: Adding directory to artifact (./../data)... Done. 0.1s\n"
     ]
    },
    {
     "data": {
      "text/plain": [
       "<wandb.sdk.wandb_artifacts.Artifact at 0x7fc03aacdef0>"
      ]
     },
     "execution_count": 9,
     "metadata": {},
     "output_type": "execute_result"
    }
   ],
   "source": [
    "data_artifacts = wandb.Artifact('qpnet_datasets', type='dataset')\n",
    "data_artifacts.add_dir(data_dir)\n",
    "run.log_artifact(data_artifacts)"
   ]
  }
 ],
 "metadata": {
  "kernelspec": {
   "display_name": "Python 3",
   "language": "python",
   "name": "python3"
  },
  "language_info": {
   "codemirror_mode": {
    "name": "ipython",
    "version": 3
   },
   "file_extension": ".py",
   "mimetype": "text/x-python",
   "name": "python",
   "nbconvert_exporter": "python",
   "pygments_lexer": "ipython3",
   "version": "3.6.9"
  }
 },
 "nbformat": 4,
 "nbformat_minor": 5
}
