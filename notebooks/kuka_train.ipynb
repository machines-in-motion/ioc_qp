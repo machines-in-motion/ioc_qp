{
 "cells": [
  {
   "cell_type": "code",
   "execution_count": 2,
   "metadata": {},
   "outputs": [],
   "source": [
    "%matplotlib inline\n",
    "%load_ext autoreload\n",
    "%autoreload 2"
   ]
  },
  {
   "cell_type": "code",
   "execution_count": 3,
   "metadata": {},
   "outputs": [],
   "source": [
    "import os\n",
    "import time\n",
    "import pathlib"
   ]
  },
  {
   "cell_type": "code",
   "execution_count": 4,
   "metadata": {},
   "outputs": [],
   "source": [
    "python_path = pathlib.Path('.').absolute().parent/'python'\n",
    "os.sys.path.insert(1, str(python_path))"
   ]
  },
  {
   "cell_type": "code",
   "execution_count": 5,
   "metadata": {},
   "outputs": [],
   "source": [
    "import pinocchio as pin\n",
    "from robot_properties_kuka.config import IiwaConfig\n",
    "\n",
    "import meshcat\n",
    "import meshcat.transformations as tf\n",
    "import meshcat.geometry as g\n",
    "\n",
    "import numpy as np\n",
    "import torch\n",
    "import torch.nn as nn\n",
    "from torch.utils.data import DataLoader\n",
    "\n",
    "from tqdm import trange\n",
    "import wandb"
   ]
  },
  {
   "cell_type": "code",
   "execution_count": 6,
   "metadata": {},
   "outputs": [],
   "source": [
    "from vocam.qpnet import DataUtils, QPNet\n",
    "import vocam.qpnet"
   ]
  },
  {
   "cell_type": "code",
   "execution_count": 7,
   "metadata": {},
   "outputs": [
    {
     "name": "stdout",
     "output_type": "stream",
     "text": [
      "You can open the visualizer by visiting the following URL:\n",
      "http://127.0.0.1:7002/static/\n"
     ]
    }
   ],
   "source": [
    "robot = IiwaConfig.buildRobotWrapper()\n",
    "model, data = robot.model, robot.data\n",
    "f_id = model.getFrameId(\"EE\")\n",
    "\n",
    "viz = pin.visualize.MeshcatVisualizer(robot.model, robot.collision_model, robot.visual_model)\n",
    "viz.initViewer(open=False)\n",
    "viz.loadViewerModel()"
   ]
  },
  {
   "cell_type": "code",
   "execution_count": 9,
   "metadata": {},
   "outputs": [
    {
     "name": "stderr",
     "output_type": "stream",
     "text": [
      "\u001b[34m\u001b[1mwandb\u001b[0m: Currently logged in as: \u001b[33mhjzhu\u001b[0m. Use \u001b[1m`wandb login --relogin`\u001b[0m to force relogin\n"
     ]
    },
    {
     "data": {
      "text/html": [
       "Tracking run with wandb version 0.12.16"
      ],
      "text/plain": [
       "<IPython.core.display.HTML object>"
      ]
     },
     "metadata": {},
     "output_type": "display_data"
    },
    {
     "data": {
      "text/html": [
       "Run data is saved locally in <code>/home/hz/Research/ioc_qp/notebooks/wandb/run-20220504_173745-2yxojggs</code>"
      ],
      "text/plain": [
       "<IPython.core.display.HTML object>"
      ]
     },
     "metadata": {},
     "output_type": "display_data"
    },
    {
     "data": {
      "text/html": [
       "Syncing run <strong><a href=\"https://wandb.ai/hjzhu/vocam/runs/2yxojggs\" target=\"_blank\">star-jawa-7</a></strong> to <a href=\"https://wandb.ai/hjzhu/vocam\" target=\"_blank\">Weights & Biases</a> (<a href=\"https://wandb.me/run\" target=\"_blank\">docs</a>)<br/>"
      ],
      "text/plain": [
       "<IPython.core.display.HTML object>"
      ]
     },
     "metadata": {},
     "output_type": "display_data"
    }
   ],
   "source": [
    "run = wandb.init(project=\"vocam\", group=\"kuka_qpnet_train\", entity=\"hjzhu\")\n",
    "\n",
    "wandb.config.nq = model.nq\n",
    "wandb.config.nv = model.nv\n",
    "wandb.config.q0 = [np.pi/16.0, -np.pi/16.0, 0, 0, 0, 0, 0]\n",
    "wandb.config.x_init = np.concatenate([wandb.config.q0, pin.utils.zero(model.nv)])\n",
    "\n",
    "wandb.config.n_col = 5\n",
    "wandb.config.u_max = [2.5, 2.5, 2.5, 1.5, 1.5, 1.5, 1.0]\n",
    "wandb.config.dt = 0.05\n",
    "\n",
    "wandb.config.isvec = True\n",
    "wandb.config.n_vars = 3*model.nq*wandb.config.n_col + 2*model.nq\n",
    "\n",
    "wandb.config.lr_nn = 1e-3\n",
    "wandb.config.batch_size = 64\n",
    "wandb.config.epochs = 5000"
   ]
  },
  {
   "cell_type": "code",
   "execution_count": 11,
   "metadata": {},
   "outputs": [],
   "source": [
    "train_data = run.use_artifact('hjzhu/vocam/qpnet_datasets:v1', type='dataset')\n",
    "train_dir = train_data.download()"
   ]
  },
  {
   "cell_type": "code",
   "execution_count": 12,
   "metadata": {},
   "outputs": [
    {
     "data": {
      "text/plain": [
       "'./artifacts/qpnet_datasets:v1'"
      ]
     },
     "execution_count": 12,
     "metadata": {},
     "output_type": "execute_result"
    }
   ],
   "source": [
    "train_dir"
   ]
  },
  {
   "cell_type": "code",
   "execution_count": 12,
   "metadata": {},
   "outputs": [],
   "source": [
    "du = DataUtils(robot, wandb.config, viz)\n",
    "du.load(\"../data/data_train.pt\")"
   ]
  },
  {
   "cell_type": "code",
   "execution_count": 14,
   "metadata": {},
   "outputs": [
    {
     "data": {
      "text/plain": [
       "[]"
      ]
     },
     "execution_count": 14,
     "metadata": {},
     "output_type": "execute_result"
    }
   ],
   "source": [
    "device = torch.device('cuda' if torch.cuda.is_available() else 'cpu')\n",
    "network = QPNet(du.x_train.shape[1], du.y_train.shape[1]).to(device)\n",
    "optimizer = torch.optim.Adam(network.parameters(), lr=wandb.config.lr_nn)\n",
    "criterion = torch.nn.L1Loss()\n",
    "train_dataloader = DataLoader(data_train, batch_size=wandb.config.batch_size, \n",
    "                              shuffle=True)\n",
    "test_dataloader = DataLoader(data_test, batch_size=wandb.config.batch_size, \n",
    "                              shuffle=True)\n",
    "wandb.watch(network)"
   ]
  },
  {
   "cell_type": "code",
   "execution_count": 15,
   "metadata": {},
   "outputs": [
    {
     "name": "stderr",
     "output_type": "stream",
     "text": [
      "100%|██████████| 100/100 [00:31<00:00,  3.17it/s]\n"
     ]
    }
   ],
   "source": [
    "for epoch in trange(wandb.config.epochs):\n",
    "    loss_train = vocam.qpnet.train(network, criterion, optimizer, train_dataloader, device)\n",
    "    loss_test = vocam.qpnet.test(network, criterion, test_dataloader, device)\n",
    "    \n",
    "    # Log the loss and accuracy values at the end of each epoch\n",
    "    wandb.log({\n",
    "        \"Epoch\": epoch,\n",
    "        \"Train Loss\": loss_train,\n",
    "        \"Test Loss\": loss_test})\n",
    "network.save(\"../models/test1\")"
   ]
  },
  {
   "cell_type": "code",
   "execution_count": null,
   "metadata": {},
   "outputs": [],
   "source": [
    "# save trained model as artifact\n",
    "trained_model_artifact = wandb.Artifact(\n",
    "            MODEL_NAME, type=\"model\",\n",
    "            description=\"trained inception v3\",\n",
    "            metadata=dict(cfg))\n",
    "\n",
    "model.save(SAVE_MODEL_DIR) # save using Keras\n",
    "trained_model_artifact.add_dir(SAVE_MODEL_DIR)\n",
    "run.log_artifact(trained_model_artifact)"
   ]
  }
 ],
 "metadata": {
  "kernelspec": {
   "display_name": "Python 3",
   "language": "python",
   "name": "python3"
  },
  "language_info": {
   "codemirror_mode": {
    "name": "ipython",
    "version": 3
   },
   "file_extension": ".py",
   "mimetype": "text/x-python",
   "name": "python",
   "nbconvert_exporter": "python",
   "pygments_lexer": "ipython3",
   "version": "3.6.9"
  }
 },
 "nbformat": 4,
 "nbformat_minor": 5
}
