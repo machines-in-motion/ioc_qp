{
 "cells": [
  {
   "cell_type": "code",
   "execution_count": 1,
   "metadata": {},
   "outputs": [],
   "source": [
    "%matplotlib inline\n",
    "%load_ext autoreload\n",
    "%autoreload 2"
   ]
  },
  {
   "cell_type": "code",
   "execution_count": 2,
   "metadata": {},
   "outputs": [],
   "source": [
    "import os\n",
    "import time\n",
    "import pathlib"
   ]
  },
  {
   "cell_type": "code",
   "execution_count": 3,
   "metadata": {},
   "outputs": [],
   "source": [
    "python_path = pathlib.Path('.').absolute().parent/'python'\n",
    "os.sys.path.insert(1, str(python_path))"
   ]
  },
  {
   "cell_type": "code",
   "execution_count": 4,
   "metadata": {},
   "outputs": [],
   "source": [
    "import pinocchio as pin\n",
    "from robot_properties_kuka.config import IiwaConfig\n",
    "\n",
    "import meshcat\n",
    "import meshcat.transformations as tf\n",
    "import meshcat.geometry as g\n",
    "\n",
    "import numpy as np\n",
    "import torch\n",
    "import torch.nn as nn\n",
    "from torch.utils.data import DataLoader\n",
    "\n",
    "from tqdm import trange\n",
    "import wandb"
   ]
  },
  {
   "cell_type": "code",
   "execution_count": 5,
   "metadata": {},
   "outputs": [],
   "source": [
    "from vocam.qpnet import DataUtils, QPNet, QPNetObstacle\n",
    "import vocam.qpnet"
   ]
  },
  {
   "cell_type": "code",
   "execution_count": 6,
   "metadata": {},
   "outputs": [],
   "source": [
    "robot = IiwaConfig.buildRobotWrapper()\n",
    "model, data = robot.model, robot.data\n",
    "f_id = model.getFrameId(\"EE\")"
   ]
  },
  {
   "cell_type": "code",
   "execution_count": 7,
   "metadata": {},
   "outputs": [
    {
     "name": "stderr",
     "output_type": "stream",
     "text": [
      "\u001b[34m\u001b[1mwandb\u001b[0m: Currently logged in as: \u001b[33mhjzhu\u001b[0m. Use \u001b[1m`wandb login --relogin`\u001b[0m to force relogin\n"
     ]
    },
    {
     "data": {
      "text/html": [
       "wandb version 0.12.17 is available!  To upgrade, please run:\n",
       " $ pip install wandb --upgrade"
      ],
      "text/plain": [
       "<IPython.core.display.HTML object>"
      ]
     },
     "metadata": {},
     "output_type": "display_data"
    },
    {
     "data": {
      "text/html": [
       "Tracking run with wandb version 0.12.16"
      ],
      "text/plain": [
       "<IPython.core.display.HTML object>"
      ]
     },
     "metadata": {},
     "output_type": "display_data"
    },
    {
     "data": {
      "text/html": [
       "Run data is saved locally in <code>/home/hz/Research/ioc_qp/notebooks/wandb/run-20220606_170912-1ikj59ld</code>"
      ],
      "text/plain": [
       "<IPython.core.display.HTML object>"
      ]
     },
     "metadata": {},
     "output_type": "display_data"
    },
    {
     "data": {
      "text/html": [
       "Syncing run <strong><a href=\"https://wandb.ai/hjzhu/vocam/runs/1ikj59ld\" target=\"_blank\">peachy-capybara-125</a></strong> to <a href=\"https://wandb.ai/hjzhu/vocam\" target=\"_blank\">Weights & Biases</a> (<a href=\"https://wandb.me/run\" target=\"_blank\">docs</a>)<br/>"
      ],
      "text/plain": [
       "<IPython.core.display.HTML object>"
      ]
     },
     "metadata": {},
     "output_type": "display_data"
    }
   ],
   "source": [
    "run = wandb.init(project=\"vocam\", group=\"obstacle_train\", entity=\"hjzhu\")"
   ]
  },
  {
   "cell_type": "code",
   "execution_count": 8,
   "metadata": {},
   "outputs": [],
   "source": [
    "wandb.config.nq = model.nq\n",
    "wandb.config.nv = model.nv\n",
    "\n",
    "wandb.config.n_col = 5\n",
    "wandb.config.u_max = [2.5, 2.5, 2.5, 1.5, 1.5, 1.5, 1.0]\n",
    "wandb.config.dt = 0.05\n",
    "\n",
    "wandb.config.isvec = True\n",
    "wandb.config.n_vars = 3 * model.nq * wandb.config.n_col + 2 * model.nq\n",
    "\n",
    "wandb.config.lr_nn = 1e-3\n",
    "wandb.config.batch_size = 64\n",
    "wandb.config.epochs = 100\n",
    "\n",
    "wandb.config.input_size = model.nq + model.nv + 3\n",
    "wandb.config.obstacle_size = 3\n",
    "wandb.config.output_size = 2 * wandb.config.n_vars"
   ]
  },
  {
   "cell_type": "code",
   "execution_count": 9,
   "metadata": {},
   "outputs": [
    {
     "name": "stderr",
     "output_type": "stream",
     "text": [
      "\u001b[34m\u001b[1mwandb\u001b[0m: Downloading large artifact data_obstacle:latest, 85.95MB. 20 files... Done. 0:0:0\n"
     ]
    }
   ],
   "source": [
    "data_artifacts = run.use_artifact('hjzhu/vocam/data_obstacle:latest', type='dataset')\n",
    "data_dir = data_artifacts.download()"
   ]
  },
  {
   "cell_type": "code",
   "execution_count": 10,
   "metadata": {},
   "outputs": [],
   "source": [
    "data_train = torch.load(data_dir + \"/data_obstacle_500_120.pt\")\n",
    "data_test = torch.load(data_dir + \"/data_obstacle_20_119.pt\")"
   ]
  },
  {
   "cell_type": "code",
   "execution_count": 11,
   "metadata": {},
   "outputs": [],
   "source": [
    "device = torch.device('cuda:1' if torch.cuda.is_available() else 'cpu')\n",
    "network = QPNetObstacle(wandb.config.input_size, \n",
    "                        wandb.config.output_size,\n",
    "                        wandb.config.obstacle_size).to(device)\n",
    "optimizer = torch.optim.Adam(network.parameters(), lr=wandb.config.lr_nn)\n",
    "criterion = torch.nn.L1Loss()\n",
    "train_dataloader = DataLoader(data_train, batch_size=wandb.config.batch_size, \n",
    "                              shuffle=True)\n",
    "test_dataloader = DataLoader(data_test, batch_size=wandb.config.batch_size, \n",
    "                              shuffle=True)\n",
    "_ = wandb.watch(network)"
   ]
  },
  {
   "cell_type": "code",
   "execution_count": 12,
   "metadata": {},
   "outputs": [
    {
     "name": "stderr",
     "output_type": "stream",
     "text": [
      "100%|██████████| 100/100 [01:29<00:00,  1.12it/s]\n"
     ]
    }
   ],
   "source": [
    "for epoch in trange(wandb.config.epochs):\n",
    "    loss_train = vocam.qpnet.train(network, criterion, optimizer, train_dataloader, device)\n",
    "    loss_test = vocam.qpnet.test(network, criterion, test_dataloader, device)\n",
    "    \n",
    "    # Log the loss and accuracy values at the end of each epoch\n",
    "    wandb.log({\n",
    "        \"Epoch\": epoch,\n",
    "        \"Train Loss\": loss_train,\n",
    "        \"Test Loss\": loss_test})"
   ]
  },
  {
   "cell_type": "code",
   "execution_count": 13,
   "metadata": {},
   "outputs": [
    {
     "data": {
      "text/plain": [
       "<wandb.sdk.wandb_artifacts.Artifact at 0x7f449ffacf60>"
      ]
     },
     "execution_count": 13,
     "metadata": {},
     "output_type": "execute_result"
    }
   ],
   "source": [
    "# save trained model as artifact\n",
    "n_run = run.name.split('-')[-1]\n",
    "model_artifacts = wandb.Artifact('qpnet_obstacle_models', type=\"model\")\n",
    "model_dir = \"../models/\"\n",
    "file_path = model_dir + 'qpnet_obstacle' + n_run + '.pt'\n",
    "network.save(file_path)\n",
    "model_artifacts.add_file(file_path)\n",
    "run.log_artifact(model_artifacts)"
   ]
  },
  {
   "cell_type": "code",
   "execution_count": null,
   "metadata": {},
   "outputs": [],
   "source": []
  }
 ],
 "metadata": {
  "kernelspec": {
   "display_name": "Python 3",
   "language": "python",
   "name": "python3"
  },
  "language_info": {
   "codemirror_mode": {
    "name": "ipython",
    "version": 3
   },
   "file_extension": ".py",
   "mimetype": "text/x-python",
   "name": "python",
   "nbconvert_exporter": "python",
   "pygments_lexer": "ipython3",
   "version": "3.6.9"
  }
 },
 "nbformat": 4,
 "nbformat_minor": 5
}
